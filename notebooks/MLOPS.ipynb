{
 "cells": [
  {
   "cell_type": "markdown",
   "id": "03a6e9b1",
   "metadata": {},
   "source": [
    "# Importing Libraries"
   ]
  },
  {
   "cell_type": "code",
   "execution_count": null,
   "id": "977affcd",
   "metadata": {},
   "outputs": [],
   "source": [
    "import sys\n",
    "import os\n",
    "\n",
    "\n",
    "module_path =os.path.abspath(os.path.join('..'))\n",
    "if module_path not in sys.path:\n",
    "    sys.path.append(module_path+\"\\\\scripts\")\n",
    "\n",
    "if module_path not in sys.path:\n",
    "    sys.path.append(module_path+\"\\\\model\")"
   ]
  },
  {
   "cell_type": "code",
   "execution_count": null,
   "id": "3dcf3934",
   "metadata": {},
   "outputs": [],
   "source": [
    "import pandas as pd\n",
    "import numpy as np\n",
    "import seaborn as sns\n",
    "import matplotlib.pyplot as plt\n",
    "import scipy.stats as ss"
   ]
  },
  {
   "cell_type": "code",
   "execution_count": null,
   "id": "9b820fec",
   "metadata": {},
   "outputs": [],
   "source": [
    "from knn import DT\n",
    "from logistic import LR\n",
    "# from xgboost import XG\n",
    "from loadDvc import dvcData"
   ]
  },
  {
   "cell_type": "markdown",
   "id": "92934fb0",
   "metadata": {},
   "source": [
    "# Splitting and versioning data"
   ]
  },
  {
   "cell_type": "markdown",
   "id": "82a3fac2",
   "metadata": {},
   "source": [
    "We split and version the data according to platform and browser.we use dvc a data versioning platform to acces the already split data"
   ]
  },
  {
   "cell_type": "code",
   "execution_count": null,
   "id": "49dc76bd",
   "metadata": {},
   "outputs": [],
   "source": [
    "dvcInstance=dvcData()\n",
    "platformData=dvcInstance.getData('data/AdSmartABdata.csv','https://github.com/Blvisse/ABtesting','cbf35f6e43a99698ba53718ed8a8c8da8f3da722')\n",
    "browserData=dvcInstance.getData('data/AdSmartABdata.csv','https://github.com/Blvisse/ABtesting','f2ee815f7d230722139cdb43b3817f44a1ce9064')\n"
   ]
  },
  {
   "cell_type": "code",
   "execution_count": null,
   "id": "046cf740",
   "metadata": {},
   "outputs": [],
   "source": [
    "#lets have a look at the datasets\n",
    "#the brwoser dataset contains data details about each user and browser \n",
    "browserData"
   ]
  },
  {
   "cell_type": "code",
   "execution_count": null,
   "id": "15196a48",
   "metadata": {},
   "outputs": [],
   "source": [
    "#the platform data is plit on platform_os \n",
    "platformData\n"
   ]
  },
  {
   "cell_type": "markdown",
   "id": "14a7053e",
   "metadata": {},
   "source": [
    "## Data Cleaning and Spliting"
   ]
  },
  {
   "cell_type": "markdown",
   "id": "62611a2c",
   "metadata": {},
   "source": [
    "We split data into training,testing and split but first we clean, and encode our categorical columns"
   ]
  },
  {
   "cell_type": "markdown",
   "id": "ee654d93",
   "metadata": {},
   "source": [
    "## Platform Data"
   ]
  },
  {
   "cell_type": "code",
   "execution_count": null,
   "id": "ab673910",
   "metadata": {},
   "outputs": [],
   "source": [
    "#We split tha data into training,testing and validation sets\n",
    "\n",
    "dtInstance=DT(platformData)\n",
    "pData=dtInstance.cleancolumns(['experiment','device_make','platform_os'])\n"
   ]
  },
  {
   "cell_type": "code",
   "execution_count": null,
   "id": "11bad7dd",
   "metadata": {},
   "outputs": [],
   "source": [
    "pData"
   ]
  },
  {
   "cell_type": "markdown",
   "id": "2f5fa5e4",
   "metadata": {},
   "source": [
    "We now carry out splitting of data"
   ]
  },
  {
   "cell_type": "markdown",
   "id": "6ef55cf5",
   "metadata": {},
   "source": [
    "### Decision Tree"
   ]
  },
  {
   "cell_type": "code",
   "execution_count": null,
   "id": "55834ef4",
   "metadata": {},
   "outputs": [],
   "source": [
    "#we split data in the following ratio 70% train 20% validation and 10 % test\n",
    "dtInstance=DT(pData)\n",
    "X_train,X_test,y_train,y_test,X_val,py_val=dtInstance.splitData()"
   ]
  },
  {
   "cell_type": "code",
   "execution_count": null,
   "id": "0fa005ff",
   "metadata": {},
   "outputs": [],
   "source": [
    "#\n",
    "dtInstance.KFoldDataSplit(6,5,6)"
   ]
  },
  {
   "cell_type": "markdown",
   "id": "d26f55a8",
   "metadata": {},
   "source": [
    "### Logistic Regressor"
   ]
  },
  {
   "cell_type": "code",
   "execution_count": null,
   "id": "5ccddd31",
   "metadata": {},
   "outputs": [],
   "source": [
    "lrInstance=LR(pData)\n",
    "lrInstance.trainModel()"
   ]
  },
  {
   "cell_type": "code",
   "execution_count": null,
   "id": "ff9d4594",
   "metadata": {},
   "outputs": [],
   "source": [
    "#applying KFold to the model\n",
    "lrInstance.KFoldDataSplit()"
   ]
  },
  {
   "cell_type": "code",
   "execution_count": null,
   "id": "8f95e653",
   "metadata": {},
   "outputs": [],
   "source": []
  },
  {
   "cell_type": "markdown",
   "id": "34f377e3",
   "metadata": {},
   "source": [
    "### Browser Data"
   ]
  },
  {
   "cell_type": "markdown",
   "id": "326ede14",
   "metadata": {},
   "source": [
    "## Decision Tree"
   ]
  },
  {
   "cell_type": "code",
   "execution_count": null,
   "id": "cea67f50",
   "metadata": {},
   "outputs": [],
   "source": [
    "dtInstance=DT(browserData)\n",
    "bData=dtInstance.cleancolumns(['experiment','device_make','browser'])"
   ]
  },
  {
   "cell_type": "code",
   "execution_count": null,
   "id": "d53469a6",
   "metadata": {},
   "outputs": [],
   "source": [
    "#we split data in the following ratio 70% train 20% validation and 10 % test\n",
    "dtInstance=DT(bData)\n",
    "X_train,X_test,y_train,y_test,X_val,y_val=dtInstance.splitData()"
   ]
  },
  {
   "cell_type": "code",
   "execution_count": null,
   "id": "66496f2e",
   "metadata": {},
   "outputs": [],
   "source": [
    "print(\"Training Sample size {} --- Test Sample Size {} --- Validation Sample Size {} \".format((len(X_train)/len(bData)*100),(len(X_test)/len(bData)*100),(len(X_val)/len(bData)*100)))"
   ]
  },
  {
   "cell_type": "code",
   "execution_count": null,
   "id": "8ea539e8",
   "metadata": {},
   "outputs": [],
   "source": [
    "dtInstance.KFoldDataSplit(6,5,6)"
   ]
  },
  {
   "cell_type": "markdown",
   "id": "05ed0309",
   "metadata": {},
   "source": [
    "## Logistic Regression"
   ]
  },
  {
   "cell_type": "code",
   "execution_count": null,
   "id": "2d8afa03",
   "metadata": {},
   "outputs": [],
   "source": [
    "lrInstance=LR(bData)\n",
    "lrInstance.trainModel()"
   ]
  },
  {
   "cell_type": "code",
   "execution_count": null,
   "id": "4255903b",
   "metadata": {},
   "outputs": [],
   "source": [
    "#applying KFold to the model\n",
    "lrInstance.KFoldDataSplit()"
   ]
  },
  {
   "cell_type": "markdown",
   "id": "f2781391",
   "metadata": {},
   "source": [
    "## Hyper-Parameter Tuning"
   ]
  },
  {
   "cell_type": "markdown",
   "id": "632dd789",
   "metadata": {},
   "source": [
    "### Platform Data"
   ]
  },
  {
   "cell_type": "markdown",
   "id": "049b2bba",
   "metadata": {},
   "source": [
    "#### Decision Tree hyperParameter Tuning"
   ]
  },
  {
   "cell_type": "code",
   "execution_count": null,
   "id": "4452b618",
   "metadata": {},
   "outputs": [],
   "source": [
    "lrInstance=LR(pData)\n",
    "dtInstance=DT(pData)"
   ]
  },
  {
   "cell_type": "code",
   "execution_count": null,
   "id": "86602eeb",
   "metadata": {},
   "outputs": [],
   "source": [
    "dtInstance.hyperparameterTune()"
   ]
  },
  {
   "cell_type": "markdown",
   "id": "0a70652f",
   "metadata": {},
   "source": [
    "#### Logistic Regressor Tuning"
   ]
  },
  {
   "cell_type": "code",
   "execution_count": null,
   "id": "c4ef6814",
   "metadata": {},
   "outputs": [],
   "source": [
    "lrInstance.hyperParamModel()"
   ]
  },
  {
   "cell_type": "markdown",
   "id": "31e3f7f4",
   "metadata": {},
   "source": [
    "### Browser Data"
   ]
  },
  {
   "cell_type": "code",
   "execution_count": null,
   "id": "4722232c",
   "metadata": {},
   "outputs": [],
   "source": [
    "lrInstance=LR(bData)\n",
    "dtInstance=DT(bData)"
   ]
  },
  {
   "cell_type": "code",
   "execution_count": null,
   "id": "a63ca6f5",
   "metadata": {},
   "outputs": [],
   "source": [
    "dtInstance.hyperparameterTune()"
   ]
  },
  {
   "cell_type": "code",
   "execution_count": null,
   "id": "bd4e24ab",
   "metadata": {},
   "outputs": [],
   "source": [
    "dtInstance.trainModel(6,4,5)"
   ]
  },
  {
   "cell_type": "code",
   "execution_count": null,
   "id": "089ba714",
   "metadata": {},
   "outputs": [],
   "source": []
  }
 ],
 "metadata": {
  "kernelspec": {
   "display_name": "Python 3",
   "language": "python",
   "name": "python3"
  },
  "language_info": {
   "codemirror_mode": {
    "name": "ipython",
    "version": 3
   },
   "file_extension": ".py",
   "mimetype": "text/x-python",
   "name": "python",
   "nbconvert_exporter": "python",
   "pygments_lexer": "ipython3",
   "version": "3.7.10"
  }
 },
 "nbformat": 4,
 "nbformat_minor": 5
}
