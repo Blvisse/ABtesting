{
 "cells": [
  {
   "cell_type": "markdown",
   "id": "8db26159",
   "metadata": {},
   "source": [
    "# Importing Libraries"
   ]
  },
  {
   "cell_type": "code",
   "execution_count": 53,
   "id": "6884c20e",
   "metadata": {},
   "outputs": [],
   "source": [
    "import pandas as pd\n",
    "import numpy as np\n",
    "import seaborn as sns\n",
    "import matplotlib.pyplot as plt\n",
    "import scipy.stats as ss"
   ]
  },
  {
   "cell_type": "code",
   "execution_count": 54,
   "id": "bf44ce31",
   "metadata": {},
   "outputs": [],
   "source": [
    "import sys\n",
    "import os\n",
    "\n",
    "\n",
    "module_path =os.path.abspath(os.path.join('..'))\n",
    "if module_path not in sys.path:\n",
    "    sys.path.append(module_path+\"\\\\scripts\")\n",
    "\n",
    "if module_path not in sys.path:\n",
    "    sys.path.append(module_path+\"\\\\models\")"
   ]
  },
  {
   "cell_type": "code",
   "execution_count": 55,
   "id": "4a4a3fa4",
   "metadata": {},
   "outputs": [],
   "source": [
    "from edaScript import EDA\n",
    "from loadData import READ\n",
    "from sequentailAB import SequentialTest\n",
    "from classicalAB import classicalAB\n",
    "from classic import classicalABTesting\n",
    "from ABtesting import ABTesting"
   ]
  },
  {
   "cell_type": "markdown",
   "id": "ecb5bce3",
   "metadata": {},
   "source": [
    "# Loading Data"
   ]
  },
  {
   "cell_type": "code",
   "execution_count": 56,
   "id": "5f868a64",
   "metadata": {},
   "outputs": [
    {
     "name": "stdout",
     "output_type": "stream",
     "text": [
      "Reading csv file..\n",
      "\n",
      "File read successfully\n",
      "\n"
     ]
    }
   ],
   "source": [
    "ldInstance=READ('../data/AdSmartABdata.csv')\n",
    "data=ldInstance.readData()"
   ]
  },
  {
   "cell_type": "code",
   "execution_count": 57,
   "id": "2d8189b8",
   "metadata": {},
   "outputs": [
    {
     "data": {
      "text/html": [
       "<div>\n",
       "<style scoped>\n",
       "    .dataframe tbody tr th:only-of-type {\n",
       "        vertical-align: middle;\n",
       "    }\n",
       "\n",
       "    .dataframe tbody tr th {\n",
       "        vertical-align: top;\n",
       "    }\n",
       "\n",
       "    .dataframe thead th {\n",
       "        text-align: right;\n",
       "    }\n",
       "</style>\n",
       "<table border=\"1\" class=\"dataframe\">\n",
       "  <thead>\n",
       "    <tr style=\"text-align: right;\">\n",
       "      <th></th>\n",
       "      <th>auction_id</th>\n",
       "      <th>experiment</th>\n",
       "      <th>date</th>\n",
       "      <th>hour</th>\n",
       "      <th>device_make</th>\n",
       "      <th>platform_os</th>\n",
       "      <th>browser</th>\n",
       "      <th>yes</th>\n",
       "      <th>no</th>\n",
       "    </tr>\n",
       "  </thead>\n",
       "  <tbody>\n",
       "    <tr>\n",
       "      <th>0</th>\n",
       "      <td>0008ef63-77a7-448b-bd1e-075f42c55e39</td>\n",
       "      <td>exposed</td>\n",
       "      <td>2020-07-10</td>\n",
       "      <td>8</td>\n",
       "      <td>Generic Smartphone</td>\n",
       "      <td>6</td>\n",
       "      <td>Chrome Mobile</td>\n",
       "      <td>0</td>\n",
       "      <td>0</td>\n",
       "    </tr>\n",
       "    <tr>\n",
       "      <th>1</th>\n",
       "      <td>000eabc5-17ce-4137-8efe-44734d914446</td>\n",
       "      <td>exposed</td>\n",
       "      <td>2020-07-07</td>\n",
       "      <td>10</td>\n",
       "      <td>Generic Smartphone</td>\n",
       "      <td>6</td>\n",
       "      <td>Chrome Mobile</td>\n",
       "      <td>0</td>\n",
       "      <td>0</td>\n",
       "    </tr>\n",
       "    <tr>\n",
       "      <th>2</th>\n",
       "      <td>0016d14a-ae18-4a02-a204-6ba53b52f2ed</td>\n",
       "      <td>exposed</td>\n",
       "      <td>2020-07-05</td>\n",
       "      <td>2</td>\n",
       "      <td>E5823</td>\n",
       "      <td>6</td>\n",
       "      <td>Chrome Mobile WebView</td>\n",
       "      <td>0</td>\n",
       "      <td>1</td>\n",
       "    </tr>\n",
       "    <tr>\n",
       "      <th>3</th>\n",
       "      <td>00187412-2932-4542-a8ef-3633901c98d9</td>\n",
       "      <td>control</td>\n",
       "      <td>2020-07-03</td>\n",
       "      <td>15</td>\n",
       "      <td>Samsung SM-A705FN</td>\n",
       "      <td>6</td>\n",
       "      <td>Facebook</td>\n",
       "      <td>0</td>\n",
       "      <td>0</td>\n",
       "    </tr>\n",
       "    <tr>\n",
       "      <th>4</th>\n",
       "      <td>001a7785-d3fe-4e11-a344-c8735acacc2c</td>\n",
       "      <td>control</td>\n",
       "      <td>2020-07-03</td>\n",
       "      <td>15</td>\n",
       "      <td>Generic Smartphone</td>\n",
       "      <td>6</td>\n",
       "      <td>Chrome Mobile</td>\n",
       "      <td>0</td>\n",
       "      <td>0</td>\n",
       "    </tr>\n",
       "    <tr>\n",
       "      <th>...</th>\n",
       "      <td>...</td>\n",
       "      <td>...</td>\n",
       "      <td>...</td>\n",
       "      <td>...</td>\n",
       "      <td>...</td>\n",
       "      <td>...</td>\n",
       "      <td>...</td>\n",
       "      <td>...</td>\n",
       "      <td>...</td>\n",
       "    </tr>\n",
       "    <tr>\n",
       "      <th>8072</th>\n",
       "      <td>ffea24ec-cec1-43fb-b1d1-8f93828c2be2</td>\n",
       "      <td>exposed</td>\n",
       "      <td>2020-07-05</td>\n",
       "      <td>7</td>\n",
       "      <td>Generic Smartphone</td>\n",
       "      <td>6</td>\n",
       "      <td>Chrome Mobile</td>\n",
       "      <td>0</td>\n",
       "      <td>0</td>\n",
       "    </tr>\n",
       "    <tr>\n",
       "      <th>8073</th>\n",
       "      <td>ffea3210-2c3e-426f-a77d-0aa72e73b20f</td>\n",
       "      <td>control</td>\n",
       "      <td>2020-07-03</td>\n",
       "      <td>15</td>\n",
       "      <td>Generic Smartphone</td>\n",
       "      <td>6</td>\n",
       "      <td>Chrome Mobile</td>\n",
       "      <td>0</td>\n",
       "      <td>0</td>\n",
       "    </tr>\n",
       "    <tr>\n",
       "      <th>8074</th>\n",
       "      <td>ffeaa0f1-1d72-4ba9-afb4-314b3b00a7c7</td>\n",
       "      <td>control</td>\n",
       "      <td>2020-07-04</td>\n",
       "      <td>9</td>\n",
       "      <td>Generic Smartphone</td>\n",
       "      <td>6</td>\n",
       "      <td>Chrome Mobile</td>\n",
       "      <td>0</td>\n",
       "      <td>0</td>\n",
       "    </tr>\n",
       "    <tr>\n",
       "      <th>8075</th>\n",
       "      <td>ffeeed62-3f7c-4a6e-8ba7-95d303d40969</td>\n",
       "      <td>exposed</td>\n",
       "      <td>2020-07-05</td>\n",
       "      <td>15</td>\n",
       "      <td>Samsung SM-A515F</td>\n",
       "      <td>6</td>\n",
       "      <td>Samsung Internet</td>\n",
       "      <td>0</td>\n",
       "      <td>0</td>\n",
       "    </tr>\n",
       "    <tr>\n",
       "      <th>8076</th>\n",
       "      <td>fffbb9ff-568a-41a5-a0c3-6866592f80d8</td>\n",
       "      <td>control</td>\n",
       "      <td>2020-07-10</td>\n",
       "      <td>14</td>\n",
       "      <td>Samsung SM-G960F</td>\n",
       "      <td>6</td>\n",
       "      <td>Facebook</td>\n",
       "      <td>0</td>\n",
       "      <td>0</td>\n",
       "    </tr>\n",
       "  </tbody>\n",
       "</table>\n",
       "<p>8077 rows × 9 columns</p>\n",
       "</div>"
      ],
      "text/plain": [
       "                                auction_id experiment        date  hour  \\\n",
       "0     0008ef63-77a7-448b-bd1e-075f42c55e39    exposed  2020-07-10     8   \n",
       "1     000eabc5-17ce-4137-8efe-44734d914446    exposed  2020-07-07    10   \n",
       "2     0016d14a-ae18-4a02-a204-6ba53b52f2ed    exposed  2020-07-05     2   \n",
       "3     00187412-2932-4542-a8ef-3633901c98d9    control  2020-07-03    15   \n",
       "4     001a7785-d3fe-4e11-a344-c8735acacc2c    control  2020-07-03    15   \n",
       "...                                    ...        ...         ...   ...   \n",
       "8072  ffea24ec-cec1-43fb-b1d1-8f93828c2be2    exposed  2020-07-05     7   \n",
       "8073  ffea3210-2c3e-426f-a77d-0aa72e73b20f    control  2020-07-03    15   \n",
       "8074  ffeaa0f1-1d72-4ba9-afb4-314b3b00a7c7    control  2020-07-04     9   \n",
       "8075  ffeeed62-3f7c-4a6e-8ba7-95d303d40969    exposed  2020-07-05    15   \n",
       "8076  fffbb9ff-568a-41a5-a0c3-6866592f80d8    control  2020-07-10    14   \n",
       "\n",
       "             device_make  platform_os                browser  yes  no  \n",
       "0     Generic Smartphone            6          Chrome Mobile    0   0  \n",
       "1     Generic Smartphone            6          Chrome Mobile    0   0  \n",
       "2                  E5823            6  Chrome Mobile WebView    0   1  \n",
       "3      Samsung SM-A705FN            6               Facebook    0   0  \n",
       "4     Generic Smartphone            6          Chrome Mobile    0   0  \n",
       "...                  ...          ...                    ...  ...  ..  \n",
       "8072  Generic Smartphone            6          Chrome Mobile    0   0  \n",
       "8073  Generic Smartphone            6          Chrome Mobile    0   0  \n",
       "8074  Generic Smartphone            6          Chrome Mobile    0   0  \n",
       "8075    Samsung SM-A515F            6       Samsung Internet    0   0  \n",
       "8076    Samsung SM-G960F            6               Facebook    0   0  \n",
       "\n",
       "[8077 rows x 9 columns]"
      ]
     },
     "execution_count": 57,
     "metadata": {},
     "output_type": "execute_result"
    }
   ],
   "source": [
    "data"
   ]
  },
  {
   "cell_type": "code",
   "execution_count": 58,
   "id": "5e7b2cd2",
   "metadata": {},
   "outputs": [
    {
     "data": {
      "text/plain": [
       "(8077, 9)"
      ]
     },
     "execution_count": 58,
     "metadata": {},
     "output_type": "execute_result"
    }
   ],
   "source": [
    "data.shape"
   ]
  },
  {
   "cell_type": "markdown",
   "id": "32b76133",
   "metadata": {},
   "source": [
    "# EDA "
   ]
  },
  {
   "cell_type": "code",
   "execution_count": 59,
   "id": "1d070ce2",
   "metadata": {},
   "outputs": [],
   "source": [
    "edaInstance=EDA(data)\n"
   ]
  },
  {
   "cell_type": "code",
   "execution_count": 60,
   "id": "edd93416",
   "metadata": {},
   "outputs": [
    {
     "name": "stdout",
     "output_type": "stream",
     "text": [
      "The report of missing values is as follows\n"
     ]
    },
    {
     "data": {
      "text/html": [
       "<div>\n",
       "<style scoped>\n",
       "    .dataframe tbody tr th:only-of-type {\n",
       "        vertical-align: middle;\n",
       "    }\n",
       "\n",
       "    .dataframe tbody tr th {\n",
       "        vertical-align: top;\n",
       "    }\n",
       "\n",
       "    .dataframe thead th {\n",
       "        text-align: right;\n",
       "    }\n",
       "</style>\n",
       "<table border=\"1\" class=\"dataframe\">\n",
       "  <thead>\n",
       "    <tr style=\"text-align: right;\">\n",
       "      <th></th>\n",
       "      <th>Total Missing</th>\n",
       "      <th>Percentage Missing</th>\n",
       "    </tr>\n",
       "  </thead>\n",
       "  <tbody>\n",
       "    <tr>\n",
       "      <th>auction_id</th>\n",
       "      <td>0.0</td>\n",
       "      <td>0.0</td>\n",
       "    </tr>\n",
       "    <tr>\n",
       "      <th>experiment</th>\n",
       "      <td>0.0</td>\n",
       "      <td>0.0</td>\n",
       "    </tr>\n",
       "    <tr>\n",
       "      <th>date</th>\n",
       "      <td>0.0</td>\n",
       "      <td>0.0</td>\n",
       "    </tr>\n",
       "    <tr>\n",
       "      <th>hour</th>\n",
       "      <td>0.0</td>\n",
       "      <td>0.0</td>\n",
       "    </tr>\n",
       "    <tr>\n",
       "      <th>device_make</th>\n",
       "      <td>0.0</td>\n",
       "      <td>0.0</td>\n",
       "    </tr>\n",
       "    <tr>\n",
       "      <th>platform_os</th>\n",
       "      <td>0.0</td>\n",
       "      <td>0.0</td>\n",
       "    </tr>\n",
       "    <tr>\n",
       "      <th>browser</th>\n",
       "      <td>0.0</td>\n",
       "      <td>0.0</td>\n",
       "    </tr>\n",
       "    <tr>\n",
       "      <th>yes</th>\n",
       "      <td>0.0</td>\n",
       "      <td>0.0</td>\n",
       "    </tr>\n",
       "    <tr>\n",
       "      <th>no</th>\n",
       "      <td>0.0</td>\n",
       "      <td>0.0</td>\n",
       "    </tr>\n",
       "  </tbody>\n",
       "</table>\n",
       "</div>"
      ],
      "text/plain": [
       "             Total Missing  Percentage Missing\n",
       "auction_id             0.0                 0.0\n",
       "experiment             0.0                 0.0\n",
       "date                   0.0                 0.0\n",
       "hour                   0.0                 0.0\n",
       "device_make            0.0                 0.0\n",
       "platform_os            0.0                 0.0\n",
       "browser                0.0                 0.0\n",
       "yes                    0.0                 0.0\n",
       "no                     0.0                 0.0"
      ]
     },
     "execution_count": 60,
     "metadata": {},
     "output_type": "execute_result"
    }
   ],
   "source": [
    "edaInstance.calculateMissing()"
   ]
  },
  {
   "cell_type": "markdown",
   "id": "7dbec339",
   "metadata": {},
   "source": [
    "The dataset doesn't have any missing values in any of its column"
   ]
  },
  {
   "cell_type": "code",
   "execution_count": 61,
   "id": "cda5efc0",
   "metadata": {},
   "outputs": [
    {
     "name": "stdout",
     "output_type": "stream",
     "text": [
      "Droppping duplicates\n",
      "\n",
      "There are 0 duplicates in the dataset\n",
      "\n",
      "Done dropping duplicates! \n",
      "\n"
     ]
    },
    {
     "data": {
      "text/html": [
       "<div>\n",
       "<style scoped>\n",
       "    .dataframe tbody tr th:only-of-type {\n",
       "        vertical-align: middle;\n",
       "    }\n",
       "\n",
       "    .dataframe tbody tr th {\n",
       "        vertical-align: top;\n",
       "    }\n",
       "\n",
       "    .dataframe thead th {\n",
       "        text-align: right;\n",
       "    }\n",
       "</style>\n",
       "<table border=\"1\" class=\"dataframe\">\n",
       "  <thead>\n",
       "    <tr style=\"text-align: right;\">\n",
       "      <th></th>\n",
       "      <th>auction_id</th>\n",
       "      <th>experiment</th>\n",
       "      <th>date</th>\n",
       "      <th>hour</th>\n",
       "      <th>device_make</th>\n",
       "      <th>platform_os</th>\n",
       "      <th>browser</th>\n",
       "      <th>yes</th>\n",
       "      <th>no</th>\n",
       "    </tr>\n",
       "  </thead>\n",
       "  <tbody>\n",
       "    <tr>\n",
       "      <th>0</th>\n",
       "      <td>0008ef63-77a7-448b-bd1e-075f42c55e39</td>\n",
       "      <td>exposed</td>\n",
       "      <td>2020-07-10</td>\n",
       "      <td>8</td>\n",
       "      <td>Generic Smartphone</td>\n",
       "      <td>6</td>\n",
       "      <td>Chrome Mobile</td>\n",
       "      <td>0</td>\n",
       "      <td>0</td>\n",
       "    </tr>\n",
       "    <tr>\n",
       "      <th>1</th>\n",
       "      <td>000eabc5-17ce-4137-8efe-44734d914446</td>\n",
       "      <td>exposed</td>\n",
       "      <td>2020-07-07</td>\n",
       "      <td>10</td>\n",
       "      <td>Generic Smartphone</td>\n",
       "      <td>6</td>\n",
       "      <td>Chrome Mobile</td>\n",
       "      <td>0</td>\n",
       "      <td>0</td>\n",
       "    </tr>\n",
       "    <tr>\n",
       "      <th>2</th>\n",
       "      <td>0016d14a-ae18-4a02-a204-6ba53b52f2ed</td>\n",
       "      <td>exposed</td>\n",
       "      <td>2020-07-05</td>\n",
       "      <td>2</td>\n",
       "      <td>E5823</td>\n",
       "      <td>6</td>\n",
       "      <td>Chrome Mobile WebView</td>\n",
       "      <td>0</td>\n",
       "      <td>1</td>\n",
       "    </tr>\n",
       "    <tr>\n",
       "      <th>3</th>\n",
       "      <td>00187412-2932-4542-a8ef-3633901c98d9</td>\n",
       "      <td>control</td>\n",
       "      <td>2020-07-03</td>\n",
       "      <td>15</td>\n",
       "      <td>Samsung SM-A705FN</td>\n",
       "      <td>6</td>\n",
       "      <td>Facebook</td>\n",
       "      <td>0</td>\n",
       "      <td>0</td>\n",
       "    </tr>\n",
       "    <tr>\n",
       "      <th>4</th>\n",
       "      <td>001a7785-d3fe-4e11-a344-c8735acacc2c</td>\n",
       "      <td>control</td>\n",
       "      <td>2020-07-03</td>\n",
       "      <td>15</td>\n",
       "      <td>Generic Smartphone</td>\n",
       "      <td>6</td>\n",
       "      <td>Chrome Mobile</td>\n",
       "      <td>0</td>\n",
       "      <td>0</td>\n",
       "    </tr>\n",
       "    <tr>\n",
       "      <th>...</th>\n",
       "      <td>...</td>\n",
       "      <td>...</td>\n",
       "      <td>...</td>\n",
       "      <td>...</td>\n",
       "      <td>...</td>\n",
       "      <td>...</td>\n",
       "      <td>...</td>\n",
       "      <td>...</td>\n",
       "      <td>...</td>\n",
       "    </tr>\n",
       "    <tr>\n",
       "      <th>8072</th>\n",
       "      <td>ffea24ec-cec1-43fb-b1d1-8f93828c2be2</td>\n",
       "      <td>exposed</td>\n",
       "      <td>2020-07-05</td>\n",
       "      <td>7</td>\n",
       "      <td>Generic Smartphone</td>\n",
       "      <td>6</td>\n",
       "      <td>Chrome Mobile</td>\n",
       "      <td>0</td>\n",
       "      <td>0</td>\n",
       "    </tr>\n",
       "    <tr>\n",
       "      <th>8073</th>\n",
       "      <td>ffea3210-2c3e-426f-a77d-0aa72e73b20f</td>\n",
       "      <td>control</td>\n",
       "      <td>2020-07-03</td>\n",
       "      <td>15</td>\n",
       "      <td>Generic Smartphone</td>\n",
       "      <td>6</td>\n",
       "      <td>Chrome Mobile</td>\n",
       "      <td>0</td>\n",
       "      <td>0</td>\n",
       "    </tr>\n",
       "    <tr>\n",
       "      <th>8074</th>\n",
       "      <td>ffeaa0f1-1d72-4ba9-afb4-314b3b00a7c7</td>\n",
       "      <td>control</td>\n",
       "      <td>2020-07-04</td>\n",
       "      <td>9</td>\n",
       "      <td>Generic Smartphone</td>\n",
       "      <td>6</td>\n",
       "      <td>Chrome Mobile</td>\n",
       "      <td>0</td>\n",
       "      <td>0</td>\n",
       "    </tr>\n",
       "    <tr>\n",
       "      <th>8075</th>\n",
       "      <td>ffeeed62-3f7c-4a6e-8ba7-95d303d40969</td>\n",
       "      <td>exposed</td>\n",
       "      <td>2020-07-05</td>\n",
       "      <td>15</td>\n",
       "      <td>Samsung SM-A515F</td>\n",
       "      <td>6</td>\n",
       "      <td>Samsung Internet</td>\n",
       "      <td>0</td>\n",
       "      <td>0</td>\n",
       "    </tr>\n",
       "    <tr>\n",
       "      <th>8076</th>\n",
       "      <td>fffbb9ff-568a-41a5-a0c3-6866592f80d8</td>\n",
       "      <td>control</td>\n",
       "      <td>2020-07-10</td>\n",
       "      <td>14</td>\n",
       "      <td>Samsung SM-G960F</td>\n",
       "      <td>6</td>\n",
       "      <td>Facebook</td>\n",
       "      <td>0</td>\n",
       "      <td>0</td>\n",
       "    </tr>\n",
       "  </tbody>\n",
       "</table>\n",
       "<p>8077 rows × 9 columns</p>\n",
       "</div>"
      ],
      "text/plain": [
       "                                auction_id experiment        date  hour  \\\n",
       "0     0008ef63-77a7-448b-bd1e-075f42c55e39    exposed  2020-07-10     8   \n",
       "1     000eabc5-17ce-4137-8efe-44734d914446    exposed  2020-07-07    10   \n",
       "2     0016d14a-ae18-4a02-a204-6ba53b52f2ed    exposed  2020-07-05     2   \n",
       "3     00187412-2932-4542-a8ef-3633901c98d9    control  2020-07-03    15   \n",
       "4     001a7785-d3fe-4e11-a344-c8735acacc2c    control  2020-07-03    15   \n",
       "...                                    ...        ...         ...   ...   \n",
       "8072  ffea24ec-cec1-43fb-b1d1-8f93828c2be2    exposed  2020-07-05     7   \n",
       "8073  ffea3210-2c3e-426f-a77d-0aa72e73b20f    control  2020-07-03    15   \n",
       "8074  ffeaa0f1-1d72-4ba9-afb4-314b3b00a7c7    control  2020-07-04     9   \n",
       "8075  ffeeed62-3f7c-4a6e-8ba7-95d303d40969    exposed  2020-07-05    15   \n",
       "8076  fffbb9ff-568a-41a5-a0c3-6866592f80d8    control  2020-07-10    14   \n",
       "\n",
       "             device_make  platform_os                browser  yes  no  \n",
       "0     Generic Smartphone            6          Chrome Mobile    0   0  \n",
       "1     Generic Smartphone            6          Chrome Mobile    0   0  \n",
       "2                  E5823            6  Chrome Mobile WebView    0   1  \n",
       "3      Samsung SM-A705FN            6               Facebook    0   0  \n",
       "4     Generic Smartphone            6          Chrome Mobile    0   0  \n",
       "...                  ...          ...                    ...  ...  ..  \n",
       "8072  Generic Smartphone            6          Chrome Mobile    0   0  \n",
       "8073  Generic Smartphone            6          Chrome Mobile    0   0  \n",
       "8074  Generic Smartphone            6          Chrome Mobile    0   0  \n",
       "8075    Samsung SM-A515F            6       Samsung Internet    0   0  \n",
       "8076    Samsung SM-G960F            6               Facebook    0   0  \n",
       "\n",
       "[8077 rows x 9 columns]"
      ]
     },
     "execution_count": 61,
     "metadata": {},
     "output_type": "execute_result"
    }
   ],
   "source": [
    "edaInstance.dropDuplicates()"
   ]
  },
  {
   "cell_type": "markdown",
   "id": "a1d19523",
   "metadata": {},
   "source": [
    "Our search for duplicated rows didn't find any"
   ]
  },
  {
   "cell_type": "markdown",
   "id": "9a5f2f88",
   "metadata": {},
   "source": [
    "## Visualization"
   ]
  },
  {
   "cell_type": "markdown",
   "id": "8c3c1d8c",
   "metadata": {},
   "source": [
    "We try to understand our categorical columns present by doing value counts, histograms and countplots amongst other visualization methods"
   ]
  },
  {
   "cell_type": "markdown",
   "id": "79242ef9",
   "metadata": {},
   "source": [
    "### Experiments"
   ]
  },
  {
   "cell_type": "code",
   "execution_count": 62,
   "id": "acae745b",
   "metadata": {},
   "outputs": [
    {
     "data": {
      "text/plain": [
       "control    4071\n",
       "exposed    4006\n",
       "Name: experiment, dtype: int64"
      ]
     },
     "execution_count": 62,
     "metadata": {},
     "output_type": "execute_result"
    }
   ],
   "source": [
    "edaInstance.valueCounts('experiment')"
   ]
  },
  {
   "cell_type": "markdown",
   "id": "d10c73e3",
   "metadata": {},
   "source": [
    "The number of users who interacted with the dummy ad 4071 which was higher than the number of users who interacted with the exposed /curated ad "
   ]
  },
  {
   "cell_type": "code",
   "execution_count": 63,
   "id": "929c8546",
   "metadata": {},
   "outputs": [
    {
     "data": {
      "image/png": "[encoded data removed]",
      "text/plain": [
       "<Figure size 720x648 with 1 Axes>"
      ]
     },
     "metadata": {},
     "output_type": "display_data"
    }
   ],
   "source": [
    "edaInstance.histVizualisation('experiment')"
   ]
  },
  {
   "cell_type": "code",
   "execution_count": 64,
   "id": "dec8f777",
   "metadata": {},
   "outputs": [
    {
     "data": {
      "image/png": "[encoded data removed]",
      "text/plain": [
       "<Figure size 720x648 with 1 Axes>"
      ]
     },
     "metadata": {},
     "output_type": "display_data"
    }
   ],
   "source": [
    "edaInstance.pieChart('experiment','RdYlGn')"
   ]
  },
  {
   "cell_type": "markdown",
   "id": "1a8ae2a1",
   "metadata": {},
   "source": [
    "### Device Make"
   ]
  },
  {
   "cell_type": "code",
   "execution_count": 65,
   "id": "0547e543",
   "metadata": {},
   "outputs": [
    {
     "data": {
      "text/plain": [
       "Generic Smartphone    4743\n",
       "iPhone                 433\n",
       "Samsung SM-G960F       203\n",
       "Samsung SM-G973F       154\n",
       "Samsung SM-G950F       148\n",
       "                      ... \n",
       "K7                       1\n",
       "Samsung SM-N910F         1\n",
       "Samsung SM-A605F         1\n",
       "S8                       1\n",
       "MHA-L09                  1\n",
       "Name: device_make, Length: 270, dtype: int64"
      ]
     },
     "execution_count": 65,
     "metadata": {},
     "output_type": "execute_result"
    }
   ],
   "source": [
    "edaInstance.valueCounts('device_make')"
   ]
  },
  {
   "cell_type": "code",
   "execution_count": 66,
   "id": "4006bcb0",
   "metadata": {},
   "outputs": [
    {
     "name": "stderr",
     "output_type": "stream",
     "text": [
      "C:\\ProgramData\\Anaconda3\\lib\\site-packages\\seaborn\\_decorators.py:43: FutureWarning: Pass the following variable as a keyword arg: x. From version 0.12, the only valid positional argument will be `data`, and passing other arguments without an explicit keyword will result in an error or misinterpretation.\n",
      "  FutureWarning\n"
     ]
    },
    {
     "data": {
      "text/plain": [
       "<matplotlib.axes._subplots.AxesSubplot at 0x1adee0f5208>"
      ]
     },
     "execution_count": 66,
     "metadata": {},
     "output_type": "execute_result"
    },
    {
     "data": {
      "image/png": "[encoded data removed]",
      "text/plain": [
       "<Figure size 1440x1440 with 1 Axes>"
      ]
     },
     "metadata": {},
     "output_type": "display_data"
    }
   ],
   "source": [
    "\n",
    "plt.figure(figsize=(20,20))\n",
    "sns.countplot(data['device_make'])"
   ]
  },
  {
   "cell_type": "markdown",
   "id": "73ce55e1",
   "metadata": {},
   "source": [
    "## Hour"
   ]
  },
  {
   "cell_type": "code",
   "execution_count": 67,
   "id": "a7481d94",
   "metadata": {},
   "outputs": [
    {
     "name": "stderr",
     "output_type": "stream",
     "text": [
      "C:\\ProgramData\\Anaconda3\\lib\\site-packages\\seaborn\\_decorators.py:43: FutureWarning: Pass the following variable as a keyword arg: x. From version 0.12, the only valid positional argument will be `data`, and passing other arguments without an explicit keyword will result in an error or misinterpretation.\n",
      "  FutureWarning\n"
     ]
    },
    {
     "data": {
      "text/plain": [
       "Text(0.5, 1.0, 'Distribution of interactions during the day')"
      ]
     },
     "execution_count": 67,
     "metadata": {},
     "output_type": "execute_result"
    },
    {
     "data": {
      "image/png": "[encoded data removed]",
      "text/plain": [
       "<Figure size 720x648 with 1 Axes>"
      ]
     },
     "metadata": {},
     "output_type": "display_data"
    }
   ],
   "source": [
    "plt.figure(figsize=(10,9))\n",
    "sns.countplot(data['hour'],palette='rocket')\n",
    "plt.title(\"Distribution of interactions during the day\")"
   ]
  },
  {
   "cell_type": "markdown",
   "id": "de5d69ff",
   "metadata": {},
   "source": [
    "Seems like most interatcions with the ad was experienced at 3pm. This also translates to the highest traffic "
   ]
  },
  {
   "cell_type": "markdown",
   "id": "6bb985eb",
   "metadata": {},
   "source": [
    "## Platform"
   ]
  },
  {
   "cell_type": "code",
   "execution_count": 68,
   "id": "23614c3a",
   "metadata": {},
   "outputs": [
    {
     "name": "stderr",
     "output_type": "stream",
     "text": [
      "C:\\ProgramData\\Anaconda3\\lib\\site-packages\\seaborn\\_decorators.py:43: FutureWarning: Pass the following variable as a keyword arg: x. From version 0.12, the only valid positional argument will be `data`, and passing other arguments without an explicit keyword will result in an error or misinterpretation.\n",
      "  FutureWarning\n"
     ]
    },
    {
     "data": {
      "text/plain": [
       "Text(0.5, 1.0, 'Distribution of OS on users')"
      ]
     },
     "execution_count": 68,
     "metadata": {},
     "output_type": "execute_result"
    },
    {
     "data": {
      "image/png": "[encoded data removed]",
      "text/plain": [
       "<Figure size 864x648 with 1 Axes>"
      ]
     },
     "metadata": {},
     "output_type": "display_data"
    }
   ],
   "source": [
    "plt.figure(figsize=(12,9))\n",
    "sns.countplot(data['platform_os'],palette='Accent_r')\n",
    "plt.title(\"Distribution of OS on users\")"
   ]
  },
  {
   "cell_type": "code",
   "execution_count": 69,
   "id": "0d76bd16",
   "metadata": {},
   "outputs": [
    {
     "data": {
      "image/png": "[encoded data removed]",
      "text/plain": [
       "<Figure size 720x648 with 1 Axes>"
      ]
     },
     "metadata": {},
     "output_type": "display_data"
    }
   ],
   "source": [
    "edaInstance.pieChart('platform_os','hsv')"
   ]
  },
  {
   "cell_type": "markdown",
   "id": "a483e352",
   "metadata": {},
   "source": [
    "94% of customers used os 6 on their mobile deivces as compared to 5.3 % who used 5"
   ]
  },
  {
   "cell_type": "markdown",
   "id": "c99c958e",
   "metadata": {},
   "source": [
    "## Browser"
   ]
  },
  {
   "cell_type": "code",
   "execution_count": 70,
   "id": "a18fa252",
   "metadata": {},
   "outputs": [
    {
     "data": {
      "image/png": "[encoded data removed]",
      "text/plain": [
       "<Figure size 720x648 with 1 Axes>"
      ]
     },
     "metadata": {},
     "output_type": "display_data"
    }
   ],
   "source": [
    "edaInstance.pieChart('browser','Greens')"
   ]
  },
  {
   "cell_type": "code",
   "execution_count": 71,
   "id": "d2b26060",
   "metadata": {},
   "outputs": [
    {
     "name": "stderr",
     "output_type": "stream",
     "text": [
      "C:\\ProgramData\\Anaconda3\\lib\\site-packages\\seaborn\\_decorators.py:43: FutureWarning: Pass the following variable as a keyword arg: x. From version 0.12, the only valid positional argument will be `data`, and passing other arguments without an explicit keyword will result in an error or misinterpretation.\n",
      "  FutureWarning\n"
     ]
    },
    {
     "data": {
      "text/plain": [
       "(array([ 0,  1,  2,  3,  4,  5,  6,  7,  8,  9, 10, 11, 12, 13, 14]),\n",
       " <a list of 15 Text major ticklabel objects>)"
      ]
     },
     "execution_count": 71,
     "metadata": {},
     "output_type": "execute_result"
    },
    {
     "data": {
      "image/png": "[encoded data removed]",
      "text/plain": [
       "<Figure size 864x648 with 1 Axes>"
      ]
     },
     "metadata": {},
     "output_type": "display_data"
    }
   ],
   "source": [
    "plt.figure(figsize=(12,9))\n",
    "sns.countplot(data['browser'],palette='mako')\n",
    "plt.title(\"Distribution of Browsers on users\")\n",
    "plt.xticks(rotation=45)"
   ]
  },
  {
   "cell_type": "markdown",
   "id": "1f88237f",
   "metadata": {},
   "source": [
    "Chrome mobile is favored most among users with a 56.4% share followed by chrome mobile webview and facebook "
   ]
  },
  {
   "cell_type": "markdown",
   "id": "57c0f897",
   "metadata": {},
   "source": [
    "## Days"
   ]
  },
  {
   "cell_type": "code",
   "execution_count": 72,
   "id": "472545c0",
   "metadata": {},
   "outputs": [
    {
     "name": "stderr",
     "output_type": "stream",
     "text": [
      "C:\\ProgramData\\Anaconda3\\lib\\site-packages\\seaborn\\_decorators.py:43: FutureWarning: Pass the following variable as a keyword arg: x. From version 0.12, the only valid positional argument will be `data`, and passing other arguments without an explicit keyword will result in an error or misinterpretation.\n",
      "  FutureWarning\n"
     ]
    },
    {
     "data": {
      "text/plain": [
       "(array([0, 1, 2, 3, 4, 5, 6, 7]), <a list of 8 Text major ticklabel objects>)"
      ]
     },
     "execution_count": 72,
     "metadata": {},
     "output_type": "execute_result"
    },
    {
     "data": {
      "image/png": "[encoded data removed]",
      "text/plain": [
       "<Figure size 864x648 with 1 Axes>"
      ]
     },
     "metadata": {},
     "output_type": "display_data"
    }
   ],
   "source": [
    "plt.figure(figsize=(12,9))\n",
    "sns.countplot(data['date'],palette='crest')\n",
    "plt.title(\"Day Traffic\")\n",
    "plt.xticks(rotation=45)"
   ]
  },
  {
   "cell_type": "markdown",
   "id": "154d9cad",
   "metadata": {},
   "source": [
    "The third of July seemed to be responsible for most of the ad traffic with the 6th of July having the least followed by the 7th. It is safe to say that as the days went by traffic reduced"
   ]
  },
  {
   "cell_type": "markdown",
   "id": "b291bdcf",
   "metadata": {},
   "source": [
    "# Feature Engineering"
   ]
  },
  {
   "cell_type": "markdown",
   "id": "a06f46bb",
   "metadata": {},
   "source": [
    "## Answered"
   ]
  },
  {
   "cell_type": "markdown",
   "id": "079d2aec",
   "metadata": {},
   "source": [
    "We create a new column according to the data if the yes and no columns are both 0 and hence the user saw the ad but didn't interact with it "
   ]
  },
  {
   "cell_type": "code",
   "execution_count": 73,
   "id": "f0313dc6",
   "metadata": {},
   "outputs": [],
   "source": [
    "data['interacted']=np.where((data['yes']==0) & (data['no']==0),0,1)"
   ]
  },
  {
   "cell_type": "code",
   "execution_count": 22,
   "id": "65107200",
   "metadata": {},
   "outputs": [
    {
     "data": {
      "text/html": [
       "<div>\n",
       "<style scoped>\n",
       "    .dataframe tbody tr th:only-of-type {\n",
       "        vertical-align: middle;\n",
       "    }\n",
       "\n",
       "    .dataframe tbody tr th {\n",
       "        vertical-align: top;\n",
       "    }\n",
       "\n",
       "    .dataframe thead th {\n",
       "        text-align: right;\n",
       "    }\n",
       "</style>\n",
       "<table border=\"1\" class=\"dataframe\">\n",
       "  <thead>\n",
       "    <tr style=\"text-align: right;\">\n",
       "      <th></th>\n",
       "      <th>auction_id</th>\n",
       "      <th>experiment</th>\n",
       "      <th>date</th>\n",
       "      <th>hour</th>\n",
       "      <th>device_make</th>\n",
       "      <th>platform_os</th>\n",
       "      <th>browser</th>\n",
       "      <th>yes</th>\n",
       "      <th>no</th>\n",
       "      <th>interacted</th>\n",
       "    </tr>\n",
       "  </thead>\n",
       "  <tbody>\n",
       "    <tr>\n",
       "      <th>0</th>\n",
       "      <td>0008ef63-77a7-448b-bd1e-075f42c55e39</td>\n",
       "      <td>exposed</td>\n",
       "      <td>2020-07-10</td>\n",
       "      <td>8</td>\n",
       "      <td>Generic Smartphone</td>\n",
       "      <td>6</td>\n",
       "      <td>Chrome Mobile</td>\n",
       "      <td>0</td>\n",
       "      <td>0</td>\n",
       "      <td>0</td>\n",
       "    </tr>\n",
       "    <tr>\n",
       "      <th>1</th>\n",
       "      <td>000eabc5-17ce-4137-8efe-44734d914446</td>\n",
       "      <td>exposed</td>\n",
       "      <td>2020-07-07</td>\n",
       "      <td>10</td>\n",
       "      <td>Generic Smartphone</td>\n",
       "      <td>6</td>\n",
       "      <td>Chrome Mobile</td>\n",
       "      <td>0</td>\n",
       "      <td>0</td>\n",
       "      <td>0</td>\n",
       "    </tr>\n",
       "    <tr>\n",
       "      <th>2</th>\n",
       "      <td>0016d14a-ae18-4a02-a204-6ba53b52f2ed</td>\n",
       "      <td>exposed</td>\n",
       "      <td>2020-07-05</td>\n",
       "      <td>2</td>\n",
       "      <td>E5823</td>\n",
       "      <td>6</td>\n",
       "      <td>Chrome Mobile WebView</td>\n",
       "      <td>0</td>\n",
       "      <td>1</td>\n",
       "      <td>1</td>\n",
       "    </tr>\n",
       "    <tr>\n",
       "      <th>3</th>\n",
       "      <td>00187412-2932-4542-a8ef-3633901c98d9</td>\n",
       "      <td>control</td>\n",
       "      <td>2020-07-03</td>\n",
       "      <td>15</td>\n",
       "      <td>Samsung SM-A705FN</td>\n",
       "      <td>6</td>\n",
       "      <td>Facebook</td>\n",
       "      <td>0</td>\n",
       "      <td>0</td>\n",
       "      <td>0</td>\n",
       "    </tr>\n",
       "    <tr>\n",
       "      <th>4</th>\n",
       "      <td>001a7785-d3fe-4e11-a344-c8735acacc2c</td>\n",
       "      <td>control</td>\n",
       "      <td>2020-07-03</td>\n",
       "      <td>15</td>\n",
       "      <td>Generic Smartphone</td>\n",
       "      <td>6</td>\n",
       "      <td>Chrome Mobile</td>\n",
       "      <td>0</td>\n",
       "      <td>0</td>\n",
       "      <td>0</td>\n",
       "    </tr>\n",
       "    <tr>\n",
       "      <th>...</th>\n",
       "      <td>...</td>\n",
       "      <td>...</td>\n",
       "      <td>...</td>\n",
       "      <td>...</td>\n",
       "      <td>...</td>\n",
       "      <td>...</td>\n",
       "      <td>...</td>\n",
       "      <td>...</td>\n",
       "      <td>...</td>\n",
       "      <td>...</td>\n",
       "    </tr>\n",
       "    <tr>\n",
       "      <th>8072</th>\n",
       "      <td>ffea24ec-cec1-43fb-b1d1-8f93828c2be2</td>\n",
       "      <td>exposed</td>\n",
       "      <td>2020-07-05</td>\n",
       "      <td>7</td>\n",
       "      <td>Generic Smartphone</td>\n",
       "      <td>6</td>\n",
       "      <td>Chrome Mobile</td>\n",
       "      <td>0</td>\n",
       "      <td>0</td>\n",
       "      <td>0</td>\n",
       "    </tr>\n",
       "    <tr>\n",
       "      <th>8073</th>\n",
       "      <td>ffea3210-2c3e-426f-a77d-0aa72e73b20f</td>\n",
       "      <td>control</td>\n",
       "      <td>2020-07-03</td>\n",
       "      <td>15</td>\n",
       "      <td>Generic Smartphone</td>\n",
       "      <td>6</td>\n",
       "      <td>Chrome Mobile</td>\n",
       "      <td>0</td>\n",
       "      <td>0</td>\n",
       "      <td>0</td>\n",
       "    </tr>\n",
       "    <tr>\n",
       "      <th>8074</th>\n",
       "      <td>ffeaa0f1-1d72-4ba9-afb4-314b3b00a7c7</td>\n",
       "      <td>control</td>\n",
       "      <td>2020-07-04</td>\n",
       "      <td>9</td>\n",
       "      <td>Generic Smartphone</td>\n",
       "      <td>6</td>\n",
       "      <td>Chrome Mobile</td>\n",
       "      <td>0</td>\n",
       "      <td>0</td>\n",
       "      <td>0</td>\n",
       "    </tr>\n",
       "    <tr>\n",
       "      <th>8075</th>\n",
       "      <td>ffeeed62-3f7c-4a6e-8ba7-95d303d40969</td>\n",
       "      <td>exposed</td>\n",
       "      <td>2020-07-05</td>\n",
       "      <td>15</td>\n",
       "      <td>Samsung SM-A515F</td>\n",
       "      <td>6</td>\n",
       "      <td>Samsung Internet</td>\n",
       "      <td>0</td>\n",
       "      <td>0</td>\n",
       "      <td>0</td>\n",
       "    </tr>\n",
       "    <tr>\n",
       "      <th>8076</th>\n",
       "      <td>fffbb9ff-568a-41a5-a0c3-6866592f80d8</td>\n",
       "      <td>control</td>\n",
       "      <td>2020-07-10</td>\n",
       "      <td>14</td>\n",
       "      <td>Samsung SM-G960F</td>\n",
       "      <td>6</td>\n",
       "      <td>Facebook</td>\n",
       "      <td>0</td>\n",
       "      <td>0</td>\n",
       "      <td>0</td>\n",
       "    </tr>\n",
       "  </tbody>\n",
       "</table>\n",
       "<p>8077 rows × 10 columns</p>\n",
       "</div>"
      ],
      "text/plain": [
       "                                auction_id experiment        date  hour  \\\n",
       "0     0008ef63-77a7-448b-bd1e-075f42c55e39    exposed  2020-07-10     8   \n",
       "1     000eabc5-17ce-4137-8efe-44734d914446    exposed  2020-07-07    10   \n",
       "2     0016d14a-ae18-4a02-a204-6ba53b52f2ed    exposed  2020-07-05     2   \n",
       "3     00187412-2932-4542-a8ef-3633901c98d9    control  2020-07-03    15   \n",
       "4     001a7785-d3fe-4e11-a344-c8735acacc2c    control  2020-07-03    15   \n",
       "...                                    ...        ...         ...   ...   \n",
       "8072  ffea24ec-cec1-43fb-b1d1-8f93828c2be2    exposed  2020-07-05     7   \n",
       "8073  ffea3210-2c3e-426f-a77d-0aa72e73b20f    control  2020-07-03    15   \n",
       "8074  ffeaa0f1-1d72-4ba9-afb4-314b3b00a7c7    control  2020-07-04     9   \n",
       "8075  ffeeed62-3f7c-4a6e-8ba7-95d303d40969    exposed  2020-07-05    15   \n",
       "8076  fffbb9ff-568a-41a5-a0c3-6866592f80d8    control  2020-07-10    14   \n",
       "\n",
       "             device_make  platform_os                browser  yes  no  \\\n",
       "0     Generic Smartphone            6          Chrome Mobile    0   0   \n",
       "1     Generic Smartphone            6          Chrome Mobile    0   0   \n",
       "2                  E5823            6  Chrome Mobile WebView    0   1   \n",
       "3      Samsung SM-A705FN            6               Facebook    0   0   \n",
       "4     Generic Smartphone            6          Chrome Mobile    0   0   \n",
       "...                  ...          ...                    ...  ...  ..   \n",
       "8072  Generic Smartphone            6          Chrome Mobile    0   0   \n",
       "8073  Generic Smartphone            6          Chrome Mobile    0   0   \n",
       "8074  Generic Smartphone            6          Chrome Mobile    0   0   \n",
       "8075    Samsung SM-A515F            6       Samsung Internet    0   0   \n",
       "8076    Samsung SM-G960F            6               Facebook    0   0   \n",
       "\n",
       "      interacted  \n",
       "0              0  \n",
       "1              0  \n",
       "2              1  \n",
       "3              0  \n",
       "4              0  \n",
       "...          ...  \n",
       "8072           0  \n",
       "8073           0  \n",
       "8074           0  \n",
       "8075           0  \n",
       "8076           0  \n",
       "\n",
       "[8077 rows x 10 columns]"
      ]
     },
     "execution_count": 22,
     "metadata": {},
     "output_type": "execute_result"
    }
   ],
   "source": [
    "data"
   ]
  },
  {
   "cell_type": "markdown",
   "id": "99585be3",
   "metadata": {},
   "source": [
    "We drop people who didn't interact with the site whatsoever"
   ]
  },
  {
   "cell_type": "code",
   "execution_count": 23,
   "id": "1465f15c",
   "metadata": {},
   "outputs": [],
   "source": [
    "data=data[data['interacted']==1]"
   ]
  },
  {
   "cell_type": "code",
   "execution_count": 24,
   "id": "9249e588",
   "metadata": {},
   "outputs": [
    {
     "data": {
      "text/html": [
       "<div>\n",
       "<style scoped>\n",
       "    .dataframe tbody tr th:only-of-type {\n",
       "        vertical-align: middle;\n",
       "    }\n",
       "\n",
       "    .dataframe tbody tr th {\n",
       "        vertical-align: top;\n",
       "    }\n",
       "\n",
       "    .dataframe thead th {\n",
       "        text-align: right;\n",
       "    }\n",
       "</style>\n",
       "<table border=\"1\" class=\"dataframe\">\n",
       "  <thead>\n",
       "    <tr style=\"text-align: right;\">\n",
       "      <th></th>\n",
       "      <th>auction_id</th>\n",
       "      <th>experiment</th>\n",
       "      <th>date</th>\n",
       "      <th>hour</th>\n",
       "      <th>device_make</th>\n",
       "      <th>platform_os</th>\n",
       "      <th>browser</th>\n",
       "      <th>yes</th>\n",
       "      <th>no</th>\n",
       "      <th>interacted</th>\n",
       "    </tr>\n",
       "  </thead>\n",
       "  <tbody>\n",
       "    <tr>\n",
       "      <th>2</th>\n",
       "      <td>0016d14a-ae18-4a02-a204-6ba53b52f2ed</td>\n",
       "      <td>exposed</td>\n",
       "      <td>2020-07-05</td>\n",
       "      <td>2</td>\n",
       "      <td>E5823</td>\n",
       "      <td>6</td>\n",
       "      <td>Chrome Mobile WebView</td>\n",
       "      <td>0</td>\n",
       "      <td>1</td>\n",
       "      <td>1</td>\n",
       "    </tr>\n",
       "    <tr>\n",
       "      <th>16</th>\n",
       "      <td>008aafdf-deef-4482-8fec-d98e3da054da</td>\n",
       "      <td>exposed</td>\n",
       "      <td>2020-07-04</td>\n",
       "      <td>16</td>\n",
       "      <td>Generic Smartphone</td>\n",
       "      <td>6</td>\n",
       "      <td>Chrome Mobile</td>\n",
       "      <td>1</td>\n",
       "      <td>0</td>\n",
       "      <td>1</td>\n",
       "    </tr>\n",
       "    <tr>\n",
       "      <th>20</th>\n",
       "      <td>00a1384a-5118-4d1b-925b-6cdada50318d</td>\n",
       "      <td>exposed</td>\n",
       "      <td>2020-07-06</td>\n",
       "      <td>8</td>\n",
       "      <td>Generic Smartphone</td>\n",
       "      <td>6</td>\n",
       "      <td>Chrome Mobile</td>\n",
       "      <td>0</td>\n",
       "      <td>1</td>\n",
       "      <td>1</td>\n",
       "    </tr>\n",
       "    <tr>\n",
       "      <th>23</th>\n",
       "      <td>00b6fadb-10bd-49e3-a778-290da82f7a8d</td>\n",
       "      <td>control</td>\n",
       "      <td>2020-07-08</td>\n",
       "      <td>4</td>\n",
       "      <td>Samsung SM-A202F</td>\n",
       "      <td>6</td>\n",
       "      <td>Facebook</td>\n",
       "      <td>1</td>\n",
       "      <td>0</td>\n",
       "      <td>1</td>\n",
       "    </tr>\n",
       "    <tr>\n",
       "      <th>27</th>\n",
       "      <td>00ebf4a8-060f-4b99-93ac-c62724399483</td>\n",
       "      <td>control</td>\n",
       "      <td>2020-07-03</td>\n",
       "      <td>15</td>\n",
       "      <td>Generic Smartphone</td>\n",
       "      <td>6</td>\n",
       "      <td>Chrome Mobile</td>\n",
       "      <td>0</td>\n",
       "      <td>1</td>\n",
       "      <td>1</td>\n",
       "    </tr>\n",
       "    <tr>\n",
       "      <th>...</th>\n",
       "      <td>...</td>\n",
       "      <td>...</td>\n",
       "      <td>...</td>\n",
       "      <td>...</td>\n",
       "      <td>...</td>\n",
       "      <td>...</td>\n",
       "      <td>...</td>\n",
       "      <td>...</td>\n",
       "      <td>...</td>\n",
       "      <td>...</td>\n",
       "    </tr>\n",
       "    <tr>\n",
       "      <th>8059</th>\n",
       "      <td>ffa08ff9-a132-4051-aef5-01a9c79367bc</td>\n",
       "      <td>exposed</td>\n",
       "      <td>2020-07-05</td>\n",
       "      <td>21</td>\n",
       "      <td>Generic Smartphone</td>\n",
       "      <td>6</td>\n",
       "      <td>Chrome Mobile</td>\n",
       "      <td>1</td>\n",
       "      <td>0</td>\n",
       "      <td>1</td>\n",
       "    </tr>\n",
       "    <tr>\n",
       "      <th>8063</th>\n",
       "      <td>ffb176df-ecd2-45d3-b05f-05b173a093a7</td>\n",
       "      <td>exposed</td>\n",
       "      <td>2020-07-04</td>\n",
       "      <td>1</td>\n",
       "      <td>Generic Smartphone</td>\n",
       "      <td>6</td>\n",
       "      <td>Chrome Mobile</td>\n",
       "      <td>1</td>\n",
       "      <td>0</td>\n",
       "      <td>1</td>\n",
       "    </tr>\n",
       "    <tr>\n",
       "      <th>8064</th>\n",
       "      <td>ffb79718-6f25-4896-b6b3-e58b80a6e147</td>\n",
       "      <td>control</td>\n",
       "      <td>2020-07-09</td>\n",
       "      <td>7</td>\n",
       "      <td>Generic Smartphone</td>\n",
       "      <td>6</td>\n",
       "      <td>Chrome Mobile</td>\n",
       "      <td>0</td>\n",
       "      <td>1</td>\n",
       "      <td>1</td>\n",
       "    </tr>\n",
       "    <tr>\n",
       "      <th>8069</th>\n",
       "      <td>ffca1153-c182-4f32-9e90-2a6008417497</td>\n",
       "      <td>control</td>\n",
       "      <td>2020-07-10</td>\n",
       "      <td>16</td>\n",
       "      <td>Generic Smartphone</td>\n",
       "      <td>6</td>\n",
       "      <td>Chrome Mobile</td>\n",
       "      <td>0</td>\n",
       "      <td>1</td>\n",
       "      <td>1</td>\n",
       "    </tr>\n",
       "    <tr>\n",
       "      <th>8071</th>\n",
       "      <td>ffdfdc09-48c7-4bfb-80f8-ec1eb633602b</td>\n",
       "      <td>exposed</td>\n",
       "      <td>2020-07-03</td>\n",
       "      <td>4</td>\n",
       "      <td>Generic Smartphone</td>\n",
       "      <td>6</td>\n",
       "      <td>Chrome Mobile</td>\n",
       "      <td>0</td>\n",
       "      <td>1</td>\n",
       "      <td>1</td>\n",
       "    </tr>\n",
       "  </tbody>\n",
       "</table>\n",
       "<p>1243 rows × 10 columns</p>\n",
       "</div>"
      ],
      "text/plain": [
       "                                auction_id experiment        date  hour  \\\n",
       "2     0016d14a-ae18-4a02-a204-6ba53b52f2ed    exposed  2020-07-05     2   \n",
       "16    008aafdf-deef-4482-8fec-d98e3da054da    exposed  2020-07-04    16   \n",
       "20    00a1384a-5118-4d1b-925b-6cdada50318d    exposed  2020-07-06     8   \n",
       "23    00b6fadb-10bd-49e3-a778-290da82f7a8d    control  2020-07-08     4   \n",
       "27    00ebf4a8-060f-4b99-93ac-c62724399483    control  2020-07-03    15   \n",
       "...                                    ...        ...         ...   ...   \n",
       "8059  ffa08ff9-a132-4051-aef5-01a9c79367bc    exposed  2020-07-05    21   \n",
       "8063  ffb176df-ecd2-45d3-b05f-05b173a093a7    exposed  2020-07-04     1   \n",
       "8064  ffb79718-6f25-4896-b6b3-e58b80a6e147    control  2020-07-09     7   \n",
       "8069  ffca1153-c182-4f32-9e90-2a6008417497    control  2020-07-10    16   \n",
       "8071  ffdfdc09-48c7-4bfb-80f8-ec1eb633602b    exposed  2020-07-03     4   \n",
       "\n",
       "             device_make  platform_os                browser  yes  no  \\\n",
       "2                  E5823            6  Chrome Mobile WebView    0   1   \n",
       "16    Generic Smartphone            6          Chrome Mobile    1   0   \n",
       "20    Generic Smartphone            6          Chrome Mobile    0   1   \n",
       "23      Samsung SM-A202F            6               Facebook    1   0   \n",
       "27    Generic Smartphone            6          Chrome Mobile    0   1   \n",
       "...                  ...          ...                    ...  ...  ..   \n",
       "8059  Generic Smartphone            6          Chrome Mobile    1   0   \n",
       "8063  Generic Smartphone            6          Chrome Mobile    1   0   \n",
       "8064  Generic Smartphone            6          Chrome Mobile    0   1   \n",
       "8069  Generic Smartphone            6          Chrome Mobile    0   1   \n",
       "8071  Generic Smartphone            6          Chrome Mobile    0   1   \n",
       "\n",
       "      interacted  \n",
       "2              1  \n",
       "16             1  \n",
       "20             1  \n",
       "23             1  \n",
       "27             1  \n",
       "...          ...  \n",
       "8059           1  \n",
       "8063           1  \n",
       "8064           1  \n",
       "8069           1  \n",
       "8071           1  \n",
       "\n",
       "[1243 rows x 10 columns]"
      ]
     },
     "execution_count": 24,
     "metadata": {},
     "output_type": "execute_result"
    }
   ],
   "source": [
    "data"
   ]
  },
  {
   "cell_type": "markdown",
   "id": "20d771dc",
   "metadata": {},
   "source": [
    "# Classical A/B Testing"
   ]
  },
  {
   "cell_type": "code",
   "execution_count": 25,
   "id": "5434149b",
   "metadata": {},
   "outputs": [],
   "source": [
    "classicalInstance=classicalAB(data)"
   ]
  },
  {
   "cell_type": "code",
   "execution_count": 26,
   "id": "5aa72658",
   "metadata": {},
   "outputs": [
    {
     "name": "stdout",
     "output_type": "stream",
     "text": [
      "The number of users in each experiment is as follows \n",
      "\n",
      "The number of exposed users 657 \n",
      "\n",
      "The number of control users 586 \n",
      "\n",
      "Those with a positive interaction with the ad \n",
      " \n",
      "From the exposed group 308 \n",
      "\n",
      "From the control group 264 \n",
      "\n",
      "The conversion rate is \n",
      "\n",
      "Exposed 0.4687975646879756 \n",
      "\n",
      "Control 0.45051194539249145 \n",
      " \n",
      "The lift from the experiment is 0.018285619295484168 \n"
     ]
    }
   ],
   "source": [
    "exposed,control,positiveExposed,positiveControl,probExposed,probPosControl,summary=classicalInstance.convertData()"
   ]
  },
  {
   "cell_type": "markdown",
   "id": "3306c1e9",
   "metadata": {},
   "source": [
    "Lets plot this data in a binomial chart"
   ]
  },
  {
   "cell_type": "code",
   "execution_count": 27,
   "id": "ea6fc8e9",
   "metadata": {},
   "outputs": [
    {
     "data": {
      "text/plain": [
       "<matplotlib.lines.Line2D at 0x1adecb8f348>"
      ]
     },
     "execution_count": 27,
     "metadata": {},
     "output_type": "execute_result"
    },
    {
     "data": {
      "image/png": "[encoded data removed]",
      "text/plain": [
       "<Figure size 792x648 with 1 Axes>"
      ]
     },
     "metadata": {},
     "output_type": "display_data"
    }
   ],
   "source": [
    "#using the values above\n",
    "\n",
    "fig,ax=plt.subplots(figsize=(11,9))\n",
    "x=np.linspace(264-49,264+50,100)\n",
    "y=ss.binom(586,.4505).pmf(x)\n",
    "ax.bar(x,y,alpha=0.5)\n",
    "#we viz a line that shows upto the 3rd quartile\n",
    "\n",
    "ax.axvline(x=.468*580,c='red',alpha=.60,linestyle='--')\n"
   ]
  },
  {
   "cell_type": "code",
   "execution_count": 28,
   "id": "9f4b157c",
   "metadata": {},
   "outputs": [
    {
     "data": {
      "text/plain": [
       "<matplotlib.lines.Line2D at 0x1adecc50e08>"
      ]
     },
     "execution_count": 28,
     "metadata": {},
     "output_type": "execute_result"
    },
    {
     "data": {
      "image/png": "[encoded data removed]",
      "text/plain": [
       "<Figure size 792x648 with 1 Axes>"
      ]
     },
     "metadata": {},
     "output_type": "display_data"
    }
   ],
   "source": [
    "\n",
    "fig,ax=plt.subplots(figsize=(11,9))\n",
    "x=np.linspace(308-49,308+50,100)\n",
    "y=ss.binom(657,.468).pmf(x)\n",
    "ax.bar(x,y,alpha=0.5)\n",
    "#we viz a line that shows upto the 3rd quartile\n",
    "\n",
    "ax.axvline(x=.4505*657,c='red',alpha=.60,linestyle='--')"
   ]
  },
  {
   "cell_type": "code",
   "execution_count": 29,
   "id": "68ed9cf9",
   "metadata": {},
   "outputs": [
    {
     "data": {
      "text/plain": [
       "0.02567993346238"
      ]
     },
     "execution_count": 29,
     "metadata": {},
     "output_type": "execute_result"
    }
   ],
   "source": [
    "ss.binom(len(exposed),probExposed).pmf(300)"
   ]
  },
  {
   "cell_type": "code",
   "execution_count": 30,
   "id": "a189392b",
   "metadata": {},
   "outputs": [
    {
     "data": {
      "text/plain": [
       "0.019468837373132736"
      ]
     },
     "execution_count": 30,
     "metadata": {},
     "output_type": "execute_result"
    }
   ],
   "source": [
    "StandardizeA=np.sqrt(probExposed*(1-probExposed))/np.sqrt(len(exposed))\n",
    "StandardizeA"
   ]
  },
  {
   "cell_type": "code",
   "execution_count": 31,
   "id": "53cbac04",
   "metadata": {},
   "outputs": [
    {
     "data": {
      "text/plain": [
       "0.02055339057798332"
      ]
     },
     "execution_count": 31,
     "metadata": {},
     "output_type": "execute_result"
    }
   ],
   "source": [
    "StandardizeB=np.sqrt(probPosControl*(1-probPosControl))/np.sqrt(len(control))\n",
    "StandardizeB"
   ]
  },
  {
   "cell_type": "code",
   "execution_count": 32,
   "id": "828f76a6",
   "metadata": {},
   "outputs": [],
   "source": [
    "def pvalue(probExposed,probPosControl):\n",
    "    StandardizeA=np.sqrt(probExposed*(1-probExposed))/np.sqrt(len(exposed))\n",
    "    StandardizeB=np.sqrt(probPosControl*(1-probPosControl))/np.sqrt(len(control))\n",
    "    Zscore=(probPosControl-probExposed)/np.sqrt(StandardizeA**2 + StandardizeB**2)\n",
    "    \n",
    "    return ss.norm.cdf(Zscore)"
   ]
  },
  {
   "cell_type": "code",
   "execution_count": 33,
   "id": "2ef5e05b",
   "metadata": {},
   "outputs": [
    {
     "data": {
      "text/plain": [
       "0.2591726745827285"
      ]
     },
     "execution_count": 33,
     "metadata": {},
     "output_type": "execute_result"
    }
   ],
   "source": [
    "pvalue(probExposed,probPosControl)"
   ]
  },
  {
   "cell_type": "code",
   "execution_count": 34,
   "id": "42554748",
   "metadata": {},
   "outputs": [],
   "source": [
    "def getConfidence(probExposed,probPosControl):\n",
    "    StandardizeA=np.sqrt(probExposed*(1-probExposed))/np.sqrt(len(exposed))\n",
    "    StandardizeB=np.sqrt(probPosControl*(1-probPosControl))/np.sqrt(len(control))\n",
    "    Zscore=(probPosControl-probExposed)/np.sqrt(StandardizeA**2 + StandardizeB**2)\n",
    "    \n",
    "    return ss.norm.sf(Zscore)\n",
    "    \n"
   ]
  },
  {
   "cell_type": "code",
   "execution_count": 35,
   "id": "02b35b91",
   "metadata": {},
   "outputs": [
    {
     "data": {
      "text/plain": [
       "0.7408273254172715"
      ]
     },
     "execution_count": 35,
     "metadata": {},
     "output_type": "execute_result"
    }
   ],
   "source": [
    "getConfidence(probExposed,probPosControl)"
   ]
  },
  {
   "cell_type": "code",
   "execution_count": null,
   "id": "f7ab3acf",
   "metadata": {
    "scrolled": true
   },
   "outputs": [],
   "source": []
  },
  {
   "cell_type": "code",
   "execution_count": 74,
   "id": "9972efa3",
   "metadata": {},
   "outputs": [],
   "source": [
    "testInstance=ABTesting(data)\n",
    "exposed,control=testInstance.splitExperiments()"
   ]
  },
  {
   "cell_type": "code",
   "execution_count": 37,
   "id": "64820ba9",
   "metadata": {},
   "outputs": [],
   "source": [
    "probExposed,probControl,lift,n1,n2=testInstance.ctrCampaign(exposed,control)"
   ]
  },
  {
   "cell_type": "code",
   "execution_count": 38,
   "id": "69ce5462",
   "metadata": {},
   "outputs": [],
   "source": [
    "standaradError1,standaradError2,standardError,tStatistic,criticalValue,confInt,p_value=testInstance.tTest(exposed,control,n1,n2,lift,.05)"
   ]
  },
  {
   "cell_type": "code",
   "execution_count": 39,
   "id": "a679e040",
   "metadata": {},
   "outputs": [
    {
     "data": {
      "text/plain": [
       "0.5186058623605803"
      ]
     },
     "execution_count": 39,
     "metadata": {},
     "output_type": "execute_result"
    }
   ],
   "source": [
    "p_value"
   ]
  },
  {
   "cell_type": "code",
   "execution_count": 40,
   "id": "3902ef4c",
   "metadata": {},
   "outputs": [
    {
     "data": {
      "text/plain": [
       "0.645680181221037"
      ]
     },
     "execution_count": 40,
     "metadata": {},
     "output_type": "execute_result"
    }
   ],
   "source": [
    "tStatistic"
   ]
  },
  {
   "cell_type": "code",
   "execution_count": 41,
   "id": "761cf2a1",
   "metadata": {},
   "outputs": [
    {
     "data": {
      "text/plain": [
       "[-0.028331323691964887, 0.06490256228293323]"
      ]
     },
     "execution_count": 41,
     "metadata": {},
     "output_type": "execute_result"
    }
   ],
   "source": [
    "confInt"
   ]
  },
  {
   "cell_type": "code",
   "execution_count": 42,
   "id": "5bdd01a7",
   "metadata": {},
   "outputs": [
    {
     "data": {
      "text/plain": [
       "0.00037810369553450236"
      ]
     },
     "execution_count": 42,
     "metadata": {},
     "output_type": "execute_result"
    }
   ],
   "source": [
    "standaradError1"
   ]
  },
  {
   "cell_type": "code",
   "execution_count": 43,
   "id": "8bd788b1",
   "metadata": {},
   "outputs": [
    {
     "data": {
      "text/plain": [
       "0.0004239148941402185"
      ]
     },
     "execution_count": 43,
     "metadata": {},
     "output_type": "execute_result"
    }
   ],
   "source": [
    "standaradError2"
   ]
  },
  {
   "cell_type": "code",
   "execution_count": 44,
   "id": "5c1e0703",
   "metadata": {},
   "outputs": [
    {
     "data": {
      "text/plain": [
       "1.646082405507605"
      ]
     },
     "execution_count": 44,
     "metadata": {},
     "output_type": "execute_result"
    }
   ],
   "source": [
    "criticalValue"
   ]
  },
  {
   "cell_type": "code",
   "execution_count": 45,
   "id": "a42966ae",
   "metadata": {},
   "outputs": [],
   "source": [
    "from statsmodels.stats.proportion import proportions_ztest"
   ]
  },
  {
   "cell_type": "code",
   "execution_count": 46,
   "id": "7d2ab9b9",
   "metadata": {},
   "outputs": [],
   "source": [
    "trialSuccess=np.array([exposed['yes'].sum(),control['yes'].sum()])\n",
    "total=np.array(exposed['yes'].sum()+exposed['no'].sum()+control['yes'].sum()+control['no'].sum())"
   ]
  },
  {
   "cell_type": "code",
   "execution_count": 47,
   "id": "286f8fd8",
   "metadata": {},
   "outputs": [],
   "source": [
    "Z_testStat,p_value=proportions_ztest(trialSuccess,total,value=0,alternative='two-sided')"
   ]
  },
  {
   "cell_type": "code",
   "execution_count": 48,
   "id": "cf6cfc5b",
   "metadata": {},
   "outputs": [
    {
     "data": {
      "text/plain": [
       "0.03602101191803692"
      ]
     },
     "execution_count": 48,
     "metadata": {},
     "output_type": "execute_result"
    }
   ],
   "source": [
    "p_value"
   ]
  },
  {
   "cell_type": "code",
   "execution_count": 49,
   "id": "82b8f954",
   "metadata": {},
   "outputs": [
    {
     "data": {
      "text/plain": [
       "2.0966901624915755"
      ]
     },
     "execution_count": 49,
     "metadata": {},
     "output_type": "execute_result"
    }
   ],
   "source": [
    "Z_testStat"
   ]
  },
  {
   "cell_type": "code",
   "execution_count": 75,
   "id": "727affc9",
   "metadata": {},
   "outputs": [],
   "source": [
    "x=exposed['yes']\n",
    "y=control['yes']"
   ]
  },
  {
   "cell_type": "code",
   "execution_count": 79,
   "id": "15e48030",
   "metadata": {},
   "outputs": [],
   "source": [
    "x=data[data['experiment']=='exposed']\n",
    "y=data[data['experiment']=='control']\n",
    "\n",
    "\n",
    "x=x['yes']\n",
    "y=y['yes']"
   ]
  },
  {
   "cell_type": "code",
   "execution_count": 80,
   "id": "77c54916",
   "metadata": {},
   "outputs": [
    {
     "ename": "KeyError",
     "evalue": "\"Passing list-likes to .loc or [] with any missing labels is no longer supported. The following labels were missing: Int64Index([   3,    4,    5,    6,    7,\\n            ...\\n            3990, 3993, 3995, 4004, 4005],\\n           dtype='int64', length=2033). See https://pandas.pydata.org/pandas-docs/stable/user_guide/indexing.html#deprecate-loc-reindex-listlike\"",
     "output_type": "error",
     "traceback": [
      "\u001b[1;31m---------------------------------------------------------------------------\u001b[0m",
      "\u001b[1;31mKeyError\u001b[0m                                  Traceback (most recent call last)",
      "\u001b[1;32m<ipython-input-80-663bd142b949>\u001b[0m in \u001b[0;36m<module>\u001b[1;34m\u001b[0m\n\u001b[0;32m      1\u001b[0m \u001b[0mclassicalABInstance\u001b[0m\u001b[1;33m=\u001b[0m\u001b[0mclassicalABTesting\u001b[0m\u001b[1;33m(\u001b[0m\u001b[0mdata\u001b[0m\u001b[1;33m)\u001b[0m\u001b[1;33m\u001b[0m\u001b[1;33m\u001b[0m\u001b[0m\n\u001b[1;32m----> 2\u001b[1;33m \u001b[0mclassicalABInstance\u001b[0m\u001b[1;33m.\u001b[0m\u001b[0mConditionalSPRT\u001b[0m\u001b[1;33m(\u001b[0m\u001b[0mx\u001b[0m\u001b[1;33m,\u001b[0m\u001b[0my\u001b[0m\u001b[1;33m,\u001b[0m\u001b[1;36m80\u001b[0m\u001b[1;33m)\u001b[0m\u001b[1;33m\u001b[0m\u001b[1;33m\u001b[0m\u001b[0m\n\u001b[0m",
      "\u001b[1;32m~\\Desktop\\10-Academy\\Week2\\ABtesting\\scripts\\classic.py\u001b[0m in \u001b[0;36mConditionalSPRT\u001b[1;34m(self, x, y, t1, alpha, beta, stop)\u001b[0m\n\u001b[0;32m    159\u001b[0m         \u001b[1;32mif\u001b[0m \u001b[0mstop\u001b[0m\u001b[1;33m!=\u001b[0m\u001b[1;32mNone\u001b[0m\u001b[1;33m:\u001b[0m\u001b[1;33m\u001b[0m\u001b[1;33m\u001b[0m\u001b[0m\n\u001b[0;32m    160\u001b[0m             \u001b[0mn\u001b[0m\u001b[1;33m=\u001b[0m\u001b[0mnp\u001b[0m\u001b[1;33m.\u001b[0m\u001b[0marray\u001b[0m\u001b[1;33m(\u001b[0m\u001b[1;33m[\u001b[0m\u001b[0mz\u001b[0m \u001b[1;32mfor\u001b[0m \u001b[0mz\u001b[0m \u001b[1;32min\u001b[0m \u001b[0mn\u001b[0m \u001b[1;32mif\u001b[0m \u001b[0mz\u001b[0m\u001b[1;33m<=\u001b[0m\u001b[0mstop\u001b[0m\u001b[1;33m]\u001b[0m\u001b[1;33m)\u001b[0m\u001b[1;33m\u001b[0m\u001b[1;33m\u001b[0m\u001b[0m\n\u001b[1;32m--> 161\u001b[1;33m         \u001b[0mx1\u001b[0m\u001b[1;33m=\u001b[0m\u001b[0mnp\u001b[0m\u001b[1;33m.\u001b[0m\u001b[0mcumsum\u001b[0m\u001b[1;33m(\u001b[0m\u001b[0mx\u001b[0m\u001b[1;33m[\u001b[0m\u001b[0mn\u001b[0m\u001b[1;33m-\u001b[0m\u001b[1;36m1\u001b[0m\u001b[1;33m]\u001b[0m\u001b[1;33m)\u001b[0m\u001b[1;33m\u001b[0m\u001b[1;33m\u001b[0m\u001b[0m\n\u001b[0m\u001b[0;32m    162\u001b[0m         \u001b[0mr\u001b[0m\u001b[1;33m=\u001b[0m\u001b[0mx1\u001b[0m\u001b[1;33m+\u001b[0m\u001b[0mnp\u001b[0m\u001b[1;33m.\u001b[0m\u001b[0mcumsum\u001b[0m\u001b[1;33m(\u001b[0m\u001b[0my\u001b[0m\u001b[1;33m[\u001b[0m\u001b[0mn\u001b[0m\u001b[1;33m-\u001b[0m\u001b[1;36m1\u001b[0m\u001b[1;33m]\u001b[0m\u001b[1;33m)\u001b[0m\u001b[1;33m\u001b[0m\u001b[1;33m\u001b[0m\u001b[0m\n\u001b[0;32m    163\u001b[0m         \u001b[0mstats\u001b[0m\u001b[1;33m=\u001b[0m\u001b[0mnp\u001b[0m\u001b[1;33m.\u001b[0m\u001b[0marray\u001b[0m\u001b[1;33m(\u001b[0m\u001b[0mlist\u001b[0m\u001b[1;33m(\u001b[0m\u001b[0mmap\u001b[0m\u001b[1;33m(\u001b[0m\u001b[0mg\u001b[0m\u001b[1;33m,\u001b[0m\u001b[0mx1\u001b[0m\u001b[1;33m,\u001b[0m \u001b[0mr\u001b[0m\u001b[1;33m,\u001b[0m \u001b[0mn\u001b[0m\u001b[1;33m,\u001b[0m \u001b[1;33m[\u001b[0m\u001b[0mt1\u001b[0m\u001b[1;33m]\u001b[0m\u001b[1;33m*\u001b[0m\u001b[0mlen\u001b[0m\u001b[1;33m(\u001b[0m\u001b[0mx1\u001b[0m\u001b[1;33m)\u001b[0m\u001b[1;33m)\u001b[0m\u001b[1;33m)\u001b[0m\u001b[1;33m)\u001b[0m \u001b[1;31m#recurcively calls g\u001b[0m\u001b[1;33m\u001b[0m\u001b[1;33m\u001b[0m\u001b[0m\n",
      "\u001b[1;32mC:\\ProgramData\\Anaconda3\\lib\\site-packages\\pandas\\core\\series.py\u001b[0m in \u001b[0;36m__getitem__\u001b[1;34m(self, key)\u001b[0m\n\u001b[0;32m    875\u001b[0m             \u001b[1;32mreturn\u001b[0m \u001b[0mself\u001b[0m\u001b[1;33m.\u001b[0m\u001b[0m_get_values\u001b[0m\u001b[1;33m(\u001b[0m\u001b[0mkey\u001b[0m\u001b[1;33m)\u001b[0m\u001b[1;33m\u001b[0m\u001b[1;33m\u001b[0m\u001b[0m\n\u001b[0;32m    876\u001b[0m \u001b[1;33m\u001b[0m\u001b[0m\n\u001b[1;32m--> 877\u001b[1;33m         \u001b[1;32mreturn\u001b[0m \u001b[0mself\u001b[0m\u001b[1;33m.\u001b[0m\u001b[0m_get_with\u001b[0m\u001b[1;33m(\u001b[0m\u001b[0mkey\u001b[0m\u001b[1;33m)\u001b[0m\u001b[1;33m\u001b[0m\u001b[1;33m\u001b[0m\u001b[0m\n\u001b[0m\u001b[0;32m    878\u001b[0m \u001b[1;33m\u001b[0m\u001b[0m\n\u001b[0;32m    879\u001b[0m     \u001b[1;32mdef\u001b[0m \u001b[0m_get_with\u001b[0m\u001b[1;33m(\u001b[0m\u001b[0mself\u001b[0m\u001b[1;33m,\u001b[0m \u001b[0mkey\u001b[0m\u001b[1;33m)\u001b[0m\u001b[1;33m:\u001b[0m\u001b[1;33m\u001b[0m\u001b[1;33m\u001b[0m\u001b[0m\n",
      "\u001b[1;32mC:\\ProgramData\\Anaconda3\\lib\\site-packages\\pandas\\core\\series.py\u001b[0m in \u001b[0;36m_get_with\u001b[1;34m(self, key)\u001b[0m\n\u001b[0;32m    910\u001b[0m             \u001b[1;31m#  (i.e. self.iloc) or label-based (i.e. self.loc)\u001b[0m\u001b[1;33m\u001b[0m\u001b[1;33m\u001b[0m\u001b[1;33m\u001b[0m\u001b[0m\n\u001b[0;32m    911\u001b[0m             \u001b[1;32mif\u001b[0m \u001b[1;32mnot\u001b[0m \u001b[0mself\u001b[0m\u001b[1;33m.\u001b[0m\u001b[0mindex\u001b[0m\u001b[1;33m.\u001b[0m\u001b[0m_should_fallback_to_positional\u001b[0m\u001b[1;33m(\u001b[0m\u001b[1;33m)\u001b[0m\u001b[1;33m:\u001b[0m\u001b[1;33m\u001b[0m\u001b[1;33m\u001b[0m\u001b[0m\n\u001b[1;32m--> 912\u001b[1;33m                 \u001b[1;32mreturn\u001b[0m \u001b[0mself\u001b[0m\u001b[1;33m.\u001b[0m\u001b[0mloc\u001b[0m\u001b[1;33m[\u001b[0m\u001b[0mkey\u001b[0m\u001b[1;33m]\u001b[0m\u001b[1;33m\u001b[0m\u001b[1;33m\u001b[0m\u001b[0m\n\u001b[0m\u001b[0;32m    913\u001b[0m             \u001b[1;32melse\u001b[0m\u001b[1;33m:\u001b[0m\u001b[1;33m\u001b[0m\u001b[1;33m\u001b[0m\u001b[0m\n\u001b[0;32m    914\u001b[0m                 \u001b[1;32mreturn\u001b[0m \u001b[0mself\u001b[0m\u001b[1;33m.\u001b[0m\u001b[0miloc\u001b[0m\u001b[1;33m[\u001b[0m\u001b[0mkey\u001b[0m\u001b[1;33m]\u001b[0m\u001b[1;33m\u001b[0m\u001b[1;33m\u001b[0m\u001b[0m\n",
      "\u001b[1;32mC:\\ProgramData\\Anaconda3\\lib\\site-packages\\pandas\\core\\indexing.py\u001b[0m in \u001b[0;36m__getitem__\u001b[1;34m(self, key)\u001b[0m\n\u001b[0;32m    893\u001b[0m \u001b[1;33m\u001b[0m\u001b[0m\n\u001b[0;32m    894\u001b[0m             \u001b[0mmaybe_callable\u001b[0m \u001b[1;33m=\u001b[0m \u001b[0mcom\u001b[0m\u001b[1;33m.\u001b[0m\u001b[0mapply_if_callable\u001b[0m\u001b[1;33m(\u001b[0m\u001b[0mkey\u001b[0m\u001b[1;33m,\u001b[0m \u001b[0mself\u001b[0m\u001b[1;33m.\u001b[0m\u001b[0mobj\u001b[0m\u001b[1;33m)\u001b[0m\u001b[1;33m\u001b[0m\u001b[1;33m\u001b[0m\u001b[0m\n\u001b[1;32m--> 895\u001b[1;33m             \u001b[1;32mreturn\u001b[0m \u001b[0mself\u001b[0m\u001b[1;33m.\u001b[0m\u001b[0m_getitem_axis\u001b[0m\u001b[1;33m(\u001b[0m\u001b[0mmaybe_callable\u001b[0m\u001b[1;33m,\u001b[0m \u001b[0maxis\u001b[0m\u001b[1;33m=\u001b[0m\u001b[0maxis\u001b[0m\u001b[1;33m)\u001b[0m\u001b[1;33m\u001b[0m\u001b[1;33m\u001b[0m\u001b[0m\n\u001b[0m\u001b[0;32m    896\u001b[0m \u001b[1;33m\u001b[0m\u001b[0m\n\u001b[0;32m    897\u001b[0m     \u001b[1;32mdef\u001b[0m \u001b[0m_is_scalar_access\u001b[0m\u001b[1;33m(\u001b[0m\u001b[0mself\u001b[0m\u001b[1;33m,\u001b[0m \u001b[0mkey\u001b[0m\u001b[1;33m:\u001b[0m \u001b[0mTuple\u001b[0m\u001b[1;33m)\u001b[0m\u001b[1;33m:\u001b[0m\u001b[1;33m\u001b[0m\u001b[1;33m\u001b[0m\u001b[0m\n",
      "\u001b[1;32mC:\\ProgramData\\Anaconda3\\lib\\site-packages\\pandas\\core\\indexing.py\u001b[0m in \u001b[0;36m_getitem_axis\u001b[1;34m(self, key, axis)\u001b[0m\n\u001b[0;32m   1111\u001b[0m                     \u001b[1;32mraise\u001b[0m \u001b[0mValueError\u001b[0m\u001b[1;33m(\u001b[0m\u001b[1;34m\"Cannot index with multidimensional key\"\u001b[0m\u001b[1;33m)\u001b[0m\u001b[1;33m\u001b[0m\u001b[1;33m\u001b[0m\u001b[0m\n\u001b[0;32m   1112\u001b[0m \u001b[1;33m\u001b[0m\u001b[0m\n\u001b[1;32m-> 1113\u001b[1;33m                 \u001b[1;32mreturn\u001b[0m \u001b[0mself\u001b[0m\u001b[1;33m.\u001b[0m\u001b[0m_getitem_iterable\u001b[0m\u001b[1;33m(\u001b[0m\u001b[0mkey\u001b[0m\u001b[1;33m,\u001b[0m \u001b[0maxis\u001b[0m\u001b[1;33m=\u001b[0m\u001b[0maxis\u001b[0m\u001b[1;33m)\u001b[0m\u001b[1;33m\u001b[0m\u001b[1;33m\u001b[0m\u001b[0m\n\u001b[0m\u001b[0;32m   1114\u001b[0m \u001b[1;33m\u001b[0m\u001b[0m\n\u001b[0;32m   1115\u001b[0m             \u001b[1;31m# nested tuple slicing\u001b[0m\u001b[1;33m\u001b[0m\u001b[1;33m\u001b[0m\u001b[1;33m\u001b[0m\u001b[0m\n",
      "\u001b[1;32mC:\\ProgramData\\Anaconda3\\lib\\site-packages\\pandas\\core\\indexing.py\u001b[0m in \u001b[0;36m_getitem_iterable\u001b[1;34m(self, key, axis)\u001b[0m\n\u001b[0;32m   1051\u001b[0m \u001b[1;33m\u001b[0m\u001b[0m\n\u001b[0;32m   1052\u001b[0m         \u001b[1;31m# A collection of keys\u001b[0m\u001b[1;33m\u001b[0m\u001b[1;33m\u001b[0m\u001b[1;33m\u001b[0m\u001b[0m\n\u001b[1;32m-> 1053\u001b[1;33m         \u001b[0mkeyarr\u001b[0m\u001b[1;33m,\u001b[0m \u001b[0mindexer\u001b[0m \u001b[1;33m=\u001b[0m \u001b[0mself\u001b[0m\u001b[1;33m.\u001b[0m\u001b[0m_get_listlike_indexer\u001b[0m\u001b[1;33m(\u001b[0m\u001b[0mkey\u001b[0m\u001b[1;33m,\u001b[0m \u001b[0maxis\u001b[0m\u001b[1;33m,\u001b[0m \u001b[0mraise_missing\u001b[0m\u001b[1;33m=\u001b[0m\u001b[1;32mFalse\u001b[0m\u001b[1;33m)\u001b[0m\u001b[1;33m\u001b[0m\u001b[1;33m\u001b[0m\u001b[0m\n\u001b[0m\u001b[0;32m   1054\u001b[0m         return self.obj._reindex_with_indexers(\n\u001b[0;32m   1055\u001b[0m             \u001b[1;33m{\u001b[0m\u001b[0maxis\u001b[0m\u001b[1;33m:\u001b[0m \u001b[1;33m[\u001b[0m\u001b[0mkeyarr\u001b[0m\u001b[1;33m,\u001b[0m \u001b[0mindexer\u001b[0m\u001b[1;33m]\u001b[0m\u001b[1;33m}\u001b[0m\u001b[1;33m,\u001b[0m \u001b[0mcopy\u001b[0m\u001b[1;33m=\u001b[0m\u001b[1;32mTrue\u001b[0m\u001b[1;33m,\u001b[0m \u001b[0mallow_dups\u001b[0m\u001b[1;33m=\u001b[0m\u001b[1;32mTrue\u001b[0m\u001b[1;33m\u001b[0m\u001b[1;33m\u001b[0m\u001b[0m\n",
      "\u001b[1;32mC:\\ProgramData\\Anaconda3\\lib\\site-packages\\pandas\\core\\indexing.py\u001b[0m in \u001b[0;36m_get_listlike_indexer\u001b[1;34m(self, key, axis, raise_missing)\u001b[0m\n\u001b[0;32m   1264\u001b[0m             \u001b[0mkeyarr\u001b[0m\u001b[1;33m,\u001b[0m \u001b[0mindexer\u001b[0m\u001b[1;33m,\u001b[0m \u001b[0mnew_indexer\u001b[0m \u001b[1;33m=\u001b[0m \u001b[0max\u001b[0m\u001b[1;33m.\u001b[0m\u001b[0m_reindex_non_unique\u001b[0m\u001b[1;33m(\u001b[0m\u001b[0mkeyarr\u001b[0m\u001b[1;33m)\u001b[0m\u001b[1;33m\u001b[0m\u001b[1;33m\u001b[0m\u001b[0m\n\u001b[0;32m   1265\u001b[0m \u001b[1;33m\u001b[0m\u001b[0m\n\u001b[1;32m-> 1266\u001b[1;33m         \u001b[0mself\u001b[0m\u001b[1;33m.\u001b[0m\u001b[0m_validate_read_indexer\u001b[0m\u001b[1;33m(\u001b[0m\u001b[0mkeyarr\u001b[0m\u001b[1;33m,\u001b[0m \u001b[0mindexer\u001b[0m\u001b[1;33m,\u001b[0m \u001b[0maxis\u001b[0m\u001b[1;33m,\u001b[0m \u001b[0mraise_missing\u001b[0m\u001b[1;33m=\u001b[0m\u001b[0mraise_missing\u001b[0m\u001b[1;33m)\u001b[0m\u001b[1;33m\u001b[0m\u001b[1;33m\u001b[0m\u001b[0m\n\u001b[0m\u001b[0;32m   1267\u001b[0m         \u001b[1;32mreturn\u001b[0m \u001b[0mkeyarr\u001b[0m\u001b[1;33m,\u001b[0m \u001b[0mindexer\u001b[0m\u001b[1;33m\u001b[0m\u001b[1;33m\u001b[0m\u001b[0m\n\u001b[0;32m   1268\u001b[0m \u001b[1;33m\u001b[0m\u001b[0m\n",
      "\u001b[1;32mC:\\ProgramData\\Anaconda3\\lib\\site-packages\\pandas\\core\\indexing.py\u001b[0m in \u001b[0;36m_validate_read_indexer\u001b[1;34m(self, key, indexer, axis, raise_missing)\u001b[0m\n\u001b[0;32m   1320\u001b[0m             \u001b[1;32mwith\u001b[0m \u001b[0moption_context\u001b[0m\u001b[1;33m(\u001b[0m\u001b[1;34m\"display.max_seq_items\"\u001b[0m\u001b[1;33m,\u001b[0m \u001b[1;36m10\u001b[0m\u001b[1;33m,\u001b[0m \u001b[1;34m\"display.width\"\u001b[0m\u001b[1;33m,\u001b[0m \u001b[1;36m80\u001b[0m\u001b[1;33m)\u001b[0m\u001b[1;33m:\u001b[0m\u001b[1;33m\u001b[0m\u001b[1;33m\u001b[0m\u001b[0m\n\u001b[0;32m   1321\u001b[0m                 raise KeyError(\n\u001b[1;32m-> 1322\u001b[1;33m                     \u001b[1;34m\"Passing list-likes to .loc or [] with any missing labels \"\u001b[0m\u001b[1;33m\u001b[0m\u001b[1;33m\u001b[0m\u001b[0m\n\u001b[0m\u001b[0;32m   1323\u001b[0m                     \u001b[1;34m\"is no longer supported. \"\u001b[0m\u001b[1;33m\u001b[0m\u001b[1;33m\u001b[0m\u001b[0m\n\u001b[0;32m   1324\u001b[0m                     \u001b[1;34mf\"The following labels were missing: {not_found}. \"\u001b[0m\u001b[1;33m\u001b[0m\u001b[1;33m\u001b[0m\u001b[0m\n",
      "\u001b[1;31mKeyError\u001b[0m: \"Passing list-likes to .loc or [] with any missing labels is no longer supported. The following labels were missing: Int64Index([   3,    4,    5,    6,    7,\\n            ...\\n            3990, 3993, 3995, 4004, 4005],\\n           dtype='int64', length=2033). See https://pandas.pydata.org/pandas-docs/stable/user_guide/indexing.html#deprecate-loc-reindex-listlike\""
     ]
    }
   ],
   "source": [
    "classicalABInstance=classicalABTesting(data)\n",
    "classicalABInstance.ConditionalSPRT(x,y,80)"
   ]
  },
  {
   "cell_type": "code",
   "execution_count": null,
   "id": "8a6db4b3",
   "metadata": {},
   "outputs": [],
   "source": []
  }
 ],
 "metadata": {
  "kernelspec": {
   "display_name": "Python 3",
   "language": "python",
   "name": "python3"
  },
  "language_info": {
   "codemirror_mode": {
    "name": "ipython",
    "version": 3
   },
   "file_extension": ".py",
   "mimetype": "text/x-python",
   "name": "python",
   "nbconvert_exporter": "python",
   "pygments_lexer": "ipython3",
   "version": "3.7.10"
  }
 },
 "nbformat": 4,
 "nbformat_minor": 5
}
